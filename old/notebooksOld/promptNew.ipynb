{
 "cells": [
  {
   "cell_type": "markdown",
   "metadata": {},
   "source": [
    "## New Prompt"
   ]
  },
  {
   "cell_type": "markdown",
   "metadata": {
    "vscode": {
     "languageId": "plaintext"
    }
   },
   "source": [
    "You are an assistant trained to generate Nepali-English code-mixed smart home control commands for fine-tuning a language model. Your task is to create commands in text format and their corresponding structured JSON outputs.\n",
    "\n",
    "### Instructions:\n",
    "1. **Input Commands**:\n",
    "   - Commands should be in Nepali-English code-mixed text.\n",
    "   - Incorporate natural variations in grammar, phrasing, and spelling.\n",
    "   - Include the following **room names** with their Nepali spellings and transliterations:\n",
    "     - **Generic Room**: `kotha`, `kothaa`.\n",
    "     - **Kitchen**: `bhancha`, `bhaanchaa`, `bhanxa`, `bhancha kotha`, `bhaanchaa kotha`, `bhansa`, `bhansaa`.\n",
    "     - **Living Room**: `baithak`, `baithak kotha`, `baithak kothaa`.\n",
    "     - **Bedroom**: `sutney kotha`, `kotha`.\n",
    "     - **Store Room**: `store`.\n",
    "     - **Corridor**: `baato`, `bato`.\n",
    "     - **Balcony**: `bardali`, `baranda`.\n",
    "     - **Terrace**: `kausi`, `chat`, `chhat`.\n",
    "     - **Study Room**: `padhney kotha`.\n",
    "     - **Worship/Prayer Room**: `puja kotha`, `pooja kotha`, `mandir`.\n",
    "\n",
    "2. **Intents**:\n",
    "   - Include the following **intents**:\n",
    "     - `turn on`, `turn off`, `change color`, `adjust brightness`, and `multi-room control`.\n",
    "   - Use parameters such as:\n",
    "     - **Brightness levels**: `low`, `medium`, `high`.\n",
    "     - **Colors**: `red`, `blue`, `green`, etc.\n",
    "     - Include **multi-room commands** (e.g., turning on lights in both the `kitchen` and `living room`).\n",
    "\n",
    "3. **Examples of Variations**:\n",
    "   - Use diverse phrasing for the same command. For instance:\n",
    "     - `bhancha ko batti balnu` → `kitchen ko light on gara` → `bhansaa ma ujyaalo gara`.\n",
    "     - Incorporate spelling variations, e.g., `baithak`, `baithak kotha`, and `baithak kothaa` are all equivalent.\n",
    "   - Commands may include optional parameters like:\n",
    "     - `\"brightness low gara\"` or `\"red color set gara\"`.\n",
    "\n",
    "2. **Output Requirements**:\n",
    "   - Format the output as a JSON object.\n",
    "   - JSON should have the following structure:\n",
    "     ```json\n",
    "     {\n",
    "       \"intent\": \"<intent>\",\n",
    "       \"room\": [\"<room1>\", \"<room2>\", ...],\n",
    "       \"parameters\": {\n",
    "         \"brightness_level\": \"<low/medium/high>\",\n",
    "         \"color\": \"<color_name>\"\n",
    "       }\n",
    "     }\n",
    "     ```\n",
    "   - Only include `brightness_level` or `color` in the JSON if relevant to the intent.\n",
    "\n",
    "3. **Examples**:\n",
    "   - Input: `\"Living room ra kitchen ko batti balnu\"`\n",
    "     Output:\n",
    "     ```json\n",
    "     {\n",
    "       \"intent\": \"turn_on\",\n",
    "       \"room\": [\"living room\", \"kitchen\"],\n",
    "       \"parameters\": {}\n",
    "     }\n",
    "     ```\n",
    "   - Input: `\"Bedroom ko light ko brightness high set garne\"`\n",
    "     Output:\n",
    "     ```json\n",
    "     {\n",
    "       \"intent\": \"adjust_brightness\",\n",
    "       \"room\": [\"bedroom\"],\n",
    "       \"parameters\": {\n",
    "         \"brightness_level\": \"high\"\n",
    "       }\n",
    "     }\n",
    "     ```\n",
    "   - Input: `\"Garage ra terrace ko batti ko color red set garne\"`\n",
    "     Output:\n",
    "     ```json\n",
    "     {\n",
    "       \"intent\": \"change_color\",\n",
    "       \"room\": [\"garage\", \"terrace\"],\n",
    "       \"parameters\": {\n",
    "         \"color\": \"red\"\n",
    "       }\n",
    "     }\n",
    "     ```\n",
    "\n",
    "4. **Generate Variations**:\n",
    "   - Include diverse phrasing (e.g., \"Kitchen ko light balnu\", \"Kitchen ma light on gara\").\n",
    "   - Use synonyms and spelling variations for the same command. For example:\n",
    "     - \"Bathroom ko batti balnu\" → \"Bathroom ko light on gara\" → \"Bathroom ma ujyaalo gara\".\n",
    "     - Variations in spelling like \"bhaanchaa\", \"bhanxa\", and \"kitchen\".\n",
    "\n",
    "### Now Generate:\n",
    "Create 10 examples of such input-output pairs. Use Nepali-English code-mixed phrases and follow the specified format strictly."
   ]
  },
  {
   "cell_type": "markdown",
   "metadata": {},
   "source": [
    "## CODE"
   ]
  },
  {
   "cell_type": "code",
   "execution_count": null,
   "metadata": {
    "vscode": {
     "languageId": "plaintext"
    }
   },
   "outputs": [],
   "source": [
    "# Parameters\n",
    "num_samples = 10  # Number of examples to generate per call\n",
    "num_iterations = 10  # Total iterations to run\n",
    "\n",
    "# Generate data\n",
    "generated_data = []\n",
    "for _ in range(num_iterations):\n",
    "    response = openai.ChatCompletion.create(\n",
    "        model=\"gpt-4\",\n",
    "        messages=[{\"role\": \"user\", \"content\": prompt}],\n",
    "        temperature=0.8,\n",
    "        max_tokens=700,\n",
    "        n=1\n",
    "    )\n",
    "    # Parse and append the generated response\n",
    "    generated_text = response[\"choices\"][0][\"message\"][\"content\"]\n",
    "    try:\n",
    "        examples = json.loads(generated_text)  # Ensure the output is valid JSON\n",
    "        generated_data.extend(examples)\n",
    "    except json.JSONDecodeError:\n",
    "        print(\"Invalid JSON generated, skipping...\")"
   ]
  },
  {
   "cell_type": "code",
   "execution_count": null,
   "metadata": {
    "vscode": {
     "languageId": "plaintext"
    }
   },
   "outputs": [],
   "source": [
    "# Save to a file\n",
    "with open(\"synthetic_dataset.jsonl\", \"w\", encoding=\"utf-8\") as f:\n",
    "    for item in generated_data:\n",
    "        f.write(json.dumps(item, ensure_ascii=False) + \"\\n\")\n",
    "\n",
    "print(f\"Generated {len(generated_data)} examples.\")"
   ]
  }
 ],
 "metadata": {
  "language_info": {
   "name": "python"
  }
 },
 "nbformat": 4,
 "nbformat_minor": 2
}
