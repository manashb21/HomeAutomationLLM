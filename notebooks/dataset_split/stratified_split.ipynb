{
 "cells": [
  {
   "cell_type": "code",
   "execution_count": 24,
   "metadata": {},
   "outputs": [],
   "source": [
    "import os\n",
    "import json\n",
    "import random\n",
    "from collections import defaultdict, Counter\n",
    "from sklearn.model_selection import train_test_split"
   ]
  },
  {
   "cell_type": "code",
   "execution_count": 25,
   "metadata": {},
   "outputs": [],
   "source": [
    "# Loading the dataset\n",
    "\n",
    "root = \"../../data\"\n",
    "filename = \"restructured_Clean_FINAL.json\"\n",
    "\n",
    "jsonFile = os.path.join(root, filename)\n",
    "\n",
    "with open(jsonFile, \"r\", encoding=\"utf-8\") as f:\n",
    "    data = json.load(f)"
   ]
  },
  {
   "cell_type": "code",
   "execution_count": 26,
   "metadata": {},
   "outputs": [],
   "source": [
    "# Defining the split ratios\n",
    "train_ratio = 0.7\n",
    "val_ratio = 0.15\n",
    "test_ratio = 0.15"
   ]
  },
  {
   "cell_type": "code",
   "execution_count": 27,
   "metadata": {},
   "outputs": [],
   "source": [
    "# Organizing the dataset by (intent, room, action)\n",
    "grouped_data = defaultdict(list)\n",
    "\n",
    "for entry in data:\n",
    "    # Create a key that represents the entire action sequence for multi-room commands\n",
    "    room_key = tuple(sorted(entry[\"rooms\"]))  # Sorted tuple to ensure consistency\n",
    "    action_key = tuple(sorted((action[\"room\"], action[\"action\"]) for action in entry[\"actions\"]))\n",
    "    key = (entry[\"intent\"], room_key, action_key)\n",
    "\n",
    "    grouped_data[key].append(entry)"
   ]
  },
  {
   "cell_type": "code",
   "execution_count": 54,
   "metadata": {},
   "outputs": [
    {
     "data": {
      "text/plain": [
       "479"
      ]
     },
     "execution_count": 54,
     "metadata": {},
     "output_type": "execute_result"
    }
   ],
   "source": [
    "len(grouped_data)"
   ]
  },
  {
   "cell_type": "code",
   "execution_count": 63,
   "metadata": {},
   "outputs": [
    {
     "name": "stdout",
     "output_type": "stream",
     "text": [
      "('multi_room_control', ('corridor', 'terrace'), (('corridor', 'turn_on'), ('terrace', 'adjust_brightness'))) :  1\n",
      "('multi_room_control', ('balcony', 'store room'), (('balcony', 'turn_on'), ('store room', 'adjust_brightness'))) :  1\n",
      "('multi_room_control', ('bathroom', 'living room'), (('bathroom', 'adjust_brightness'), ('living room', 'turn_on'))) :  1\n",
      "('multi_room_control', ('balcony', 'balcony'), (('balcony', 'adjust_brightness'), ('balcony', 'turn_on'))) :  1\n",
      "('multi_room_control', ('balcony', 'corridor'), (('balcony', 'adjust_brightness'), ('corridor', 'turn_off'))) :  1\n",
      "('multi_room_control', ('corridor', 'study room'), (('corridor', 'turn_on'), ('study room', 'adjust_brightness'))) :  1\n",
      "('multi_room_control', ('prayer room', 'study room'), (('prayer room', 'turn_off'), ('study room', 'turn_on'))) :  1\n",
      "('single_room_control', ('kitchen',), (('kitchen', 'adjust_brightness'), ('kitchen', 'change_color'))) :  1\n",
      "('multi_room_control', ('kitchen', 'prayer room'), (('kitchen', 'turn_off'), ('prayer room', 'adjust_brightness'))) :  1\n",
      "('multi_room_control', ('living room', 'terrace'), (('living room', 'turn_on'), ('terrace', 'adjust_brightness'))) :  1\n",
      "('multi_room_control', ('bedroom', 'store room'), (('bedroom', 'adjust_brightness'), ('store room', 'adjust_brightness'))) :  1\n",
      "('multi_room_control', ('study room', 'terrace'), (('study room', 'adjust_brightness'), ('terrace', 'adjust_brightness'))) :  1\n",
      "('multi_room_control', ('bedroom', 'prayer room'), (('bedroom', 'turn_off'), ('prayer room', 'adjust_brightness'))) :  1\n",
      "('multi_room_control', ('corridor', 'living room'), (('corridor', 'turn_off'), ('living room', 'turn_off'))) :  1\n",
      "('multi_room_control', ('bedroom', 'corridor'), (('bedroom', 'change_color'), ('corridor', 'turn_off'))) :  1\n",
      "('multi_room_control', ('living room', 'prayer room'), (('living room', 'change_color'), ('prayer room', 'adjust_brightness'))) :  1\n",
      "('multi_room_control', ('balcony', 'kitchen'), (('balcony', 'turn_off'), ('kitchen', 'change_color'))) :  1\n",
      "('multi_room_control', ('bedroom', 'kitchen'), (('bedroom', 'turn_off'), ('kitchen', 'change_color'))) :  1\n",
      "('multi_room_control', ('kitchen', 'store room'), (('kitchen', 'adjust_brightness'), ('store room', 'adjust_brightness'))) :  1\n",
      "('multi_room_control', ('corridor', 'store room'), (('corridor', 'turn_on'), ('store room', 'turn_off'))) :  1\n",
      "('multi_room_control', ('kitchen', 'prayer room'), (('kitchen', 'turn_on'), ('prayer room', 'turn_off'))) :  1\n",
      "('multi_room_control', ('balcony', 'living room'), (('balcony', 'adjust_brightness'), ('living room', 'adjust_brightness'))) :  1\n",
      "('single_room_control', ('prayer room',), (('prayer room', 'adjust_brightness'), ('prayer room', 'change_color'))) :  1\n",
      "('multi_room_control', ('balcony', 'terrace'), (('balcony', 'change_color'), ('terrace', 'turn_on'))) :  1\n",
      "('multi_room_control', ('corridor', 'kitchen'), (('corridor', 'adjust_brightness'), ('kitchen', 'adjust_brightness'))) :  1\n",
      "('multi_room_control', ('corridor', 'corridor'), (('corridor', 'adjust_brightness'), ('corridor', 'turn_on'))) :  1\n",
      "('multi_room_control', ('balcony', 'kitchen', 'living room'), (('balcony', 'turn_off'), ('kitchen', 'turn_on'), ('living room', 'turn_off'))) :  1\n",
      "('multi_room_control', ('kitchen', 'store room'), (('kitchen', 'change_color'), ('store room', 'adjust_brightness'))) :  1\n",
      "('multi_room_control', ('prayer room', 'study room'), (('prayer room', 'change_color'), ('study room', 'turn_on'))) :  1\n",
      "('multi_room_control', ('bedroom', 'store room'), (('bedroom', 'turn_on'), ('store room', 'adjust_brightness'))) :  1\n",
      "('multi_room_control', ('living room', 'terrace'), (('living room', 'turn_off'), ('terrace', 'adjust_brightness'))) :  1\n",
      "('multi_room_control', ('living room', 'terrace'), (('living room', 'adjust_brightness'), ('terrace', 'turn_off'))) :  1\n",
      "('multi_room_control', ('bedroom', 'prayer room'), (('bedroom', 'turn_off'), ('prayer room', 'change_color'))) :  1\n",
      "('multi_room_control', ('bedroom', 'corridor'), (('bedroom', 'turn_on'), ('corridor', 'adjust_brightness'))) :  1\n",
      "('multi_room_control', ('kitchen', 'kitchen'), (('kitchen', 'change_color'), ('kitchen', 'turn_on'))) :  1\n",
      "('multi_room_control', ('balcony', 'corridor'), (('balcony', 'turn_off'), ('corridor', 'turn_on'))) :  1\n",
      "('multi_room_control', ('store room', 'store room'), (('store room', 'adjust_brightness'), ('store room', 'turn_on'))) :  1\n",
      "('multi_room_control', ('corridor', 'prayer room'), (('corridor', 'turn_on'), ('prayer room', 'turn_off'))) :  1\n",
      "('multi_room_control', ('kitchen', 'study room'), (('kitchen', 'adjust_brightness'), ('study room', 'turn_off'))) :  1\n",
      "('multi_room_control', ('prayer room', 'study room'), (('prayer room', 'turn_on'), ('study room', 'turn_off'))) :  1\n",
      "('multi_room_control', ('balcony', 'prayer room'), (('balcony', 'adjust_brightness'), ('prayer room', 'adjust_brightness'))) :  1\n",
      "('multi_room_control', ('balcony', 'kitchen'), (('balcony', 'turn_on'), ('kitchen', 'change_color'))) :  1\n",
      "('multi_room_control', ('study room', 'terrace'), (('study room', 'turn_off'), ('terrace', 'adjust_brightness'))) :  1\n",
      "('multi_room_control', ('corridor', 'kitchen'), (('corridor', 'adjust_brightness'), ('kitchen', 'turn_on'))) :  1\n",
      "('multi_room_control', ('bedroom', 'bedroom'), (('bedroom', 'adjust_brightness'), ('bedroom', 'turn_on'))) :  1\n",
      "('multi_room_control', ('bedroom', 'bedroom'), (('bedroom', 'change_color'), ('bedroom', 'turn_on'))) :  1\n",
      "('multi_room_control', ('corridor', 'terrace'), (('corridor', 'turn_off'), ('terrace', 'change_color'))) :  1\n",
      "('multi_room_control', ('kitchen', 'kitchen'), (('kitchen', 'adjust_brightness'), ('kitchen', 'change_color'))) :  1\n",
      "('multi_room_control', ('balcony', 'living room'), (('balcony', 'change_color'), ('living room', 'turn_on'))) :  1\n",
      "('multi_room_control', ('study room', 'study room'), (('study room', 'change_color'), ('study room', 'turn_on'))) :  1\n",
      "('multi_room_control', ('prayer room', 'study room'), (('prayer room', 'adjust_brightness'), ('study room', 'turn_on'))) :  1\n",
      "('multi_room_control', ('kitchen', 'store room'), (('kitchen', 'change_color'), ('store room', 'turn_off'))) :  1\n",
      "('multi_room_control', ('balcony', 'prayer room'), (('balcony', 'change_color'), ('prayer room', 'turn_off'))) :  1\n",
      "('multi_room_control', ('balcony', 'living room'), (('balcony', 'adjust_brightness'), ('living room', 'turn_on'))) :  1\n",
      "('multi_room_control', ('kitchen', 'study room'), (('kitchen', 'turn_off'), ('study room', 'turn_on'))) :  1\n",
      "('multi_room_control', ('kitchen', 'prayer room'), (('kitchen', 'adjust_brightness'), ('prayer room', 'change_color'))) :  1\n",
      "('multi_room_control', ('corridor', 'living room'), (('corridor', 'turn_on'), ('living room', 'adjust_brightness'))) :  1\n",
      "('multi_room_control', ('study room', 'terrace'), (('study room', 'turn_on'), ('terrace', 'turn_off'))) :  1\n",
      "('multi_room_control', ('bedroom', 'living room'), (('bedroom', 'change_color'), ('living room', 'turn_off'))) :  1\n",
      "('multi_room_control', ('bedroom', 'prayer room'), (('bedroom', 'turn_off'), ('prayer room', 'turn_on'))) :  1\n",
      "('multi_room_control', ('balcony', 'terrace'), (('balcony', 'turn_on'), ('terrace', 'turn_off'))) :  1\n",
      "('multi_room_control', ('living room', 'prayer room'), (('living room', 'turn_on'), ('prayer room', 'change_color'))) :  1\n",
      "('multi_room_control', ('bedroom', 'terrace'), (('bedroom', 'turn_on'), ('terrace', 'change_color'))) :  1\n",
      "('multi_room_control', ('kitchen', 'living room'), (('kitchen', 'adjust_brightness'), ('kitchen', 'turn_on'), ('living room', 'adjust_brightness'), ('living room', 'turn_on'))) :  1\n",
      "('multi_room_control', ('store room', 'study room'), (('store room', 'turn_on'), ('study room', 'turn_on'))) :  1\n",
      "('multi_room_control', ('bedroom', 'terrace'), (('bedroom', 'turn_on'), ('terrace', 'turn_off'))) :  1\n",
      "('multi_room_control', ('bedroom', 'kitchen'), (('bedroom', 'adjust_brightness'), ('bedroom', 'turn_on'), ('kitchen', 'adjust_brightness'), ('kitchen', 'turn_on'))) :  1\n",
      "('multi_room_control', ('dining area', 'living room'), (('dining area', 'turn_on'), ('living room', 'turn_on'))) :  1\n",
      "('multi_room_control', ('balcony', 'living room'), (('balcony', 'change_color'), ('living room', 'change_color'))) :  1\n",
      "('multi_room_control', ('corridor', 'store room'), (('corridor', 'turn_off'), ('store room', 'turn_on'))) :  1\n",
      "('multi_room_control', ('living room', 'store room'), (('living room', 'change_color'), ('store room', 'turn_on'))) :  1\n",
      "('multi_room_control', ('store room', 'terrace'), (('store room', 'turn_on'), ('terrace', 'change_color'))) :  1\n",
      "('multi_room_control', ('corridor', 'store room'), (('corridor', 'change_color'), ('store room', 'turn_off'))) :  1\n",
      "('multi_room_control', ('balcony', 'store room'), (('balcony', 'turn_off'), ('store room', 'adjust_brightness'))) :  1\n",
      "('multi_room_control', ('kitchen', 'terrace'), (('kitchen', 'turn_on'), ('terrace', 'adjust_brightness'))) :  1\n",
      "('multi_room_control', ('balcony', 'kitchen'), (('balcony', 'turn_on'), ('kitchen', 'turn_off'))) :  1\n",
      "('multi_room_control', ('balcony', 'prayer room'), (('balcony', 'change_color'), ('prayer room', 'change_color'))) :  1\n",
      "('multi_room_control', ('store room', 'study room'), (('store room', 'adjust_brightness'), ('study room', 'turn_on'))) :  1\n",
      "('multi_room_control', ('corridor', 'study room'), (('corridor', 'turn_on'), ('study room', 'turn_on'))) :  1\n",
      "('multi_room_control', ('bedroom', 'store room'), (('bedroom', 'turn_off'), ('store room', 'change_color'))) :  1\n",
      "('multi_room_control', ('living room', 'study room'), (('living room', 'adjust_brightness'), ('study room', 'adjust_brightness'))) :  1\n",
      "('multi_room_control', ('balcony', 'corridor'), (('balcony', 'turn_off'), ('corridor', 'adjust_brightness'))) :  1\n",
      "('multi_room_control', ('balcony', 'corridor'), (('balcony', 'adjust_brightness'), ('corridor', 'turn_on'))) :  1\n",
      "('multi_room_control', ('living room', 'study room'), (('living room', 'adjust_brightness'), ('study room', 'turn_off'))) :  1\n",
      "('multi_room_control', ('bedroom', 'kitchen'), (('bedroom', 'change_color'), ('kitchen', 'turn_on'))) :  1\n",
      "('single_room_control', ('living room',), (('living room', 'adjust_brightness'), ('living room', 'change_color'))) :  1\n",
      "('multi_room_control', ('kitchen', 'study room'), (('kitchen', 'turn_off'), ('study room', 'turn_off'))) :  1\n",
      "('multi_room_control', ('living room', 'store room'), (('living room', 'change_color'), ('store room', 'change_color'))) :  1\n",
      "('multi_room_control', ('bathroom', 'bedroom'), (('bathroom', 'turn_on'), ('bedroom', 'turn_on'))) :  1\n",
      "('single_room_control', ('corridor',), (('corridor', 'adjust_brightness'), ('corridor', 'change_color'))) :  1\n",
      "('single_room_control', ('terrace',), (('terrace', 'adjust_brightness'), ('terrace', 'change_color'))) :  1\n",
      "('multi_room_control', ('balcony', 'prayer room'), (('balcony', 'turn_off'), ('prayer room', 'change_color'))) :  1\n",
      "('multi_room_control', ('bedroom', 'corridor'), (('bedroom', 'change_color'), ('corridor', 'adjust_brightness'))) :  1\n",
      "('multi_room_control', ('bedroom', 'store room'), (('bedroom', 'adjust_brightness'), ('store room', 'turn_on'))) :  1\n",
      "('multi_room_control', ('bedroom', 'terrace'), (('bedroom', 'turn_off'), ('terrace', 'turn_on'))) :  1\n",
      "('multi_room_control', ('corridor', 'corridor'), (('corridor', 'adjust_brightness'), ('corridor', 'adjust_brightness'))) :  1\n",
      "('multi_room_control', ('bedroom', 'terrace'), (('bedroom', 'turn_off'), ('terrace', 'turn_off'))) :  1\n",
      "('multi_room_control', ('corridor', 'study room'), (('corridor', 'change_color'), ('study room', 'change_color'))) :  1\n",
      "('multi_room_control', ('corridor', 'terrace'), (('corridor', 'turn_on'), ('terrace', 'change_color'))) :  1\n",
      "('multi_room_control', ('kitchen', 'store room'), (('kitchen', 'turn_on'), ('store room', 'turn_off'))) :  1\n",
      "('multi_room_control', ('bedroom', 'store room'), (('bedroom', 'turn_off'), ('store room', 'adjust_brightness'))) :  1\n",
      "('multi_room_control', ('bedroom', 'living room'), (('bedroom', 'change_color'), ('living room', 'adjust_brightness'))) :  1\n",
      "('multi_room_control', ('corridor', 'kitchen'), (('corridor', 'change_color'), ('kitchen', 'turn_off'))) :  1\n",
      "('multi_room_control', ('kitchen', 'prayer room'), (('kitchen', 'adjust_brightness'), ('prayer room', 'turn_on'))) :  1\n",
      "('multi_room_control', ('kitchen', 'study room'), (('kitchen', 'adjust_brightness'), ('study room', 'change_color'))) :  1\n",
      "('multi_room_control', ('living room', 'store room'), (('living room', 'change_color'), ('store room', 'turn_off'))) :  1\n",
      "('multi_room_control', ('corridor', 'kitchen'), (('corridor', 'turn_off'), ('kitchen', 'change_color'))) :  1\n",
      "('multi_room_control', ('balcony', 'prayer room'), (('balcony', 'turn_on'), ('prayer room', 'turn_off'))) :  1\n",
      "('multi_room_control', ('living room', 'study room'), (('living room', 'turn_on'), ('study room', 'adjust_brightness'))) :  1\n",
      "('single_room_control', ('store room',), (('store room', 'adjust_brightness'), ('store room', 'turn_on'))) :  1\n",
      "('multi_room_control', ('living room', 'terrace'), (('living room', 'change_color'), ('terrace', 'turn_on'))) :  1\n",
      "('multi_room_control', ('balcony', 'terrace'), (('balcony', 'change_color'), ('terrace', 'turn_off'))) :  1\n",
      "('multi_room_control', ('corridor', 'kitchen'), (('corridor', 'turn_on'), ('kitchen', 'adjust_brightness'))) :  1\n",
      "('multi_room_control', ('kitchen', 'study room'), (('kitchen', 'change_color'), ('study room', 'turn_off'))) :  1\n",
      "('multi_room_control', ('bedroom', 'corridor'), (('bedroom', 'change_color'), ('corridor', 'turn_on'))) :  1\n",
      "('multi_room_control', ('store room', 'terrace'), (('store room', 'adjust_brightness'), ('terrace', 'turn_off'))) :  1\n",
      "('multi_room_control', ('bedroom', 'living room'), (('bedroom', 'adjust_brightness'), ('living room', 'change_color'))) :  1\n",
      "('multi_room_control', ('balcony', 'living room'), (('balcony', 'turn_on'), ('living room', 'change_color'))) :  1\n",
      "('multi_room_control', ('bedroom', 'kitchen'), (('bedroom', 'turn_on'), ('kitchen', 'change_color'))) :  1\n",
      "('multi_room_control', ('bedroom', 'living room'), (('bedroom', 'change_color'), ('living room', 'turn_on'))) :  1\n",
      "('multi_room_control', ('kitchen', 'prayer room'), (('kitchen', 'change_color'), ('prayer room', 'adjust_brightness'))) :  1\n",
      "('multi_room_control', ('corridor', 'kitchen'), (('corridor', 'turn_off'), ('kitchen', 'adjust_brightness'))) :  1\n",
      "('multi_room_control', ('prayer room', 'terrace'), (('prayer room', 'change_color'), ('terrace', 'turn_on'))) :  1\n",
      "('multi_room_control', ('living room', 'prayer room'), (('living room', 'turn_on'), ('prayer room', 'adjust_brightness'))) :  1\n",
      "('multi_room_control', ('corridor', 'terrace'), (('corridor', 'change_color'), ('terrace', 'turn_on'))) :  1\n",
      "('multi_room_control', ('living room', 'study room'), (('living room', 'turn_off'), ('study room', 'turn_on'))) :  1\n",
      "('multi_room_control', ('bedroom', 'living room'), (('bedroom', 'turn_off'), ('living room', 'adjust_brightness'))) :  1\n",
      "('multi_room_control', ('kitchen', 'study room'), (('kitchen', 'adjust_brightness'), ('study room', 'turn_on'))) :  1\n",
      "('multi_room_control', ('corridor', 'terrace'), (('corridor', 'adjust_brightness'), ('terrace', 'turn_off'))) :  1\n",
      "('multi_room_control', ('living room', 'prayer room'), (('living room', 'adjust_brightness'), ('prayer room', 'turn_on'))) :  1\n",
      "('multi_room_control', ('bedroom', 'corridor'), (('bedroom', 'change_color'), ('corridor', 'change_color'))) :  1\n",
      "('single_room_control', ('kitchen',), (('kitchen', 'change_color'), ('kitchen', 'turn_on'))) :  1\n",
      "('multi_room_control', ('prayer room', 'store room'), (('prayer room', 'change_color'), ('store room', 'turn_on'))) :  1\n",
      "('multi_room_control', ('store room', 'terrace'), (('store room', 'turn_off'), ('terrace', 'adjust_brightness'))) :  1\n",
      "('multi_room_control', ('corridor', 'dining area'), (('corridor', 'change_color'), ('dining area', 'turn_on'))) :  1\n",
      "('multi_room_control', ('bathroom', 'dining area'), (('bathroom', 'change_color'), ('dining area', 'turn_on'))) :  1\n",
      "('multi_room_control', ('bathroom', 'terrace'), (('bathroom', 'turn_on'), ('terrace', 'turn_off'))) :  1\n",
      "('multi_room_control', ('prayer room', 'terrace'), (('prayer room', 'change_color'), ('prayer room', 'turn_on'), ('terrace', 'change_color'), ('terrace', 'turn_on'))) :  1\n",
      "('multi_room_control', ('dining area', 'store room'), (('dining area', 'turn_on'), ('store room', 'adjust_brightness'))) :  1\n",
      "('multi_room_control', ('bathroom', 'corridor'), (('bathroom', 'adjust_brightness'), ('corridor', 'turn_on'))) :  1\n",
      "('multi_room_control', ('bathroom', 'terrace'), (('bathroom', 'adjust_brightness'), ('terrace', 'change_color'))) :  1\n",
      "('multi_room_control', ('bathroom', 'store room'), (('bathroom', 'turn_on'), ('store room', 'adjust_brightness'))) :  1\n",
      "('multi_room_control', ('corridor', 'store room'), (('corridor', 'turn_on'), ('store room', 'adjust_brightness'))) :  1\n",
      "('multi_room_control', ('bedroom', 'study room'), (('bedroom', 'change_color'), ('bedroom', 'turn_on'), ('study room', 'turn_off'))) :  1\n",
      "('multi_room_control', ('prayer room', 'store room'), (('prayer room', 'adjust_brightness'), ('store room', 'turn_on'))) :  1\n",
      "('multi_room_control', ('bathroom', 'store room'), (('bathroom', 'adjust_brightness'), ('store room', 'turn_off'))) :  1\n",
      "('multi_room_control', ('bathroom', 'terrace'), (('bathroom', 'adjust_brightness'), ('terrace', 'turn_off'))) :  1\n",
      "('multi_room_control', ('prayer room', 'prayer room'), (('prayer room', 'change_color'), ('prayer room', 'change_color'))) :  1\n",
      "('multi_room_control', ('terrace', 'terrace'), (('terrace', 'turn_on'), ('terrace', 'turn_on'))) :  1\n",
      "('multi_room_control', ('dining area', 'prayer room'), (('dining area', 'turn_off'), ('prayer room', 'turn_on'))) :  1\n",
      "('multi_room_control', ('corridor', 'terrace'), (('corridor', 'adjust_brightness'), ('terrace', 'change_color'))) :  1\n",
      "('multi_room_control', ('bathroom', 'dining area'), (('bathroom', 'adjust_brightness'), ('dining area', 'change_color'))) :  1\n",
      "('multi_room_control', ('bathroom', 'dining area'), (('bathroom', 'turn_off'), ('dining area', 'turn_on'))) :  1\n",
      "('multi_room_control', ('dining area', 'store room'), (('dining area', 'adjust_brightness'), ('store room', 'turn_on'))) :  1\n",
      "('multi_room_control', ('terrace', 'terrace'), (('terrace', 'change_color'), ('terrace', 'change_color'))) :  1\n",
      "('multi_room_control', ('dining area', 'store room'), (('dining area', 'turn_on'), ('store room', 'turn_off'))) :  1\n",
      "('multi_room_control', ('bathroom', 'store room'), (('bathroom', 'adjust_brightness'), ('store room', 'turn_on'))) :  1\n",
      "Keys with only one value:  157\n"
     ]
    }
   ],
   "source": [
    "## testing\n",
    "howmany = 0\n",
    "for i in range(len(grouped_data)-2):\n",
    "    temp1 = dict(grouped_data)\n",
    "    key1 = list(temp1.keys())[i]\n",
    "    if  len(grouped_data[key1]) == 1:\n",
    "        howmany += 1\n",
    "        print(key1, \": \", len(grouped_data[key1]))\n",
    "print(\"Keys with only one value: \",howmany)"
   ]
  },
  {
   "cell_type": "code",
   "execution_count": 28,
   "metadata": {},
   "outputs": [],
   "source": [
    "# Initializing the split sets\n",
    "train_set, val_set, test_set = [], [], []"
   ]
  },
  {
   "cell_type": "code",
   "execution_count": 30,
   "metadata": {},
   "outputs": [
    {
     "name": "stdout",
     "output_type": "stream",
     "text": [
      "⚠ Warning: Category ('multi_room_control', ('corridor', 'terrace'), (('corridor', 'turn_on'), ('terrace', 'adjust_brightness'))) has only 1 samples. It may not split well.\n"
     ]
    },
    {
     "ename": "ValueError",
     "evalue": "With n_samples=1, test_size=0.3 and train_size=None, the resulting train set will be empty. Adjust any of the aforementioned parameters.",
     "output_type": "error",
     "traceback": [
      "\u001b[1;31m---------------------------------------------------------------------------\u001b[0m",
      "\u001b[1;31mValueError\u001b[0m                                Traceback (most recent call last)",
      "Cell \u001b[1;32mIn[30], line 10\u001b[0m\n\u001b[0;32m      7\u001b[0m     \u001b[38;5;28mprint\u001b[39m(\u001b[38;5;124mf\u001b[39m\u001b[38;5;124m\"\u001b[39m\u001b[38;5;124m⚠ Warning: Category \u001b[39m\u001b[38;5;132;01m{\u001b[39;00mkey\u001b[38;5;132;01m}\u001b[39;00m\u001b[38;5;124m has only \u001b[39m\u001b[38;5;132;01m{\u001b[39;00mnum_samples\u001b[38;5;132;01m}\u001b[39;00m\u001b[38;5;124m samples. It may not split well.\u001b[39m\u001b[38;5;124m\"\u001b[39m)\n\u001b[0;32m      9\u001b[0m \u001b[38;5;66;03m# Perform stratified train-val-test split\u001b[39;00m\n\u001b[1;32m---> 10\u001b[0m train, temp \u001b[38;5;241m=\u001b[39m \u001b[43mtrain_test_split\u001b[49m\u001b[43m(\u001b[49m\u001b[43msamples\u001b[49m\u001b[43m,\u001b[49m\u001b[43m \u001b[49m\u001b[43mtest_size\u001b[49m\u001b[38;5;241;43m=\u001b[39;49m\u001b[43m(\u001b[49m\u001b[43mval_ratio\u001b[49m\u001b[43m \u001b[49m\u001b[38;5;241;43m+\u001b[39;49m\u001b[43m \u001b[49m\u001b[43mtest_ratio\u001b[49m\u001b[43m)\u001b[49m\u001b[43m,\u001b[49m\u001b[43m \u001b[49m\u001b[43mrandom_state\u001b[49m\u001b[38;5;241;43m=\u001b[39;49m\u001b[38;5;241;43m42\u001b[39;49m\u001b[43m)\u001b[49m\n\u001b[0;32m     11\u001b[0m val, test \u001b[38;5;241m=\u001b[39m train_test_split(temp, test_size\u001b[38;5;241m=\u001b[39m(test_ratio \u001b[38;5;241m/\u001b[39m (test_ratio \u001b[38;5;241m+\u001b[39m val_ratio)), random_state\u001b[38;5;241m=\u001b[39m\u001b[38;5;241m42\u001b[39m)\n\u001b[0;32m     13\u001b[0m train_set\u001b[38;5;241m.\u001b[39mextend(train)\n",
      "File \u001b[1;32md:\\THESIS\\homeAuto\\Lib\\site-packages\\sklearn\\utils\\_param_validation.py:216\u001b[0m, in \u001b[0;36mvalidate_params.<locals>.decorator.<locals>.wrapper\u001b[1;34m(*args, **kwargs)\u001b[0m\n\u001b[0;32m    210\u001b[0m \u001b[38;5;28;01mtry\u001b[39;00m:\n\u001b[0;32m    211\u001b[0m     \u001b[38;5;28;01mwith\u001b[39;00m config_context(\n\u001b[0;32m    212\u001b[0m         skip_parameter_validation\u001b[38;5;241m=\u001b[39m(\n\u001b[0;32m    213\u001b[0m             prefer_skip_nested_validation \u001b[38;5;129;01mor\u001b[39;00m global_skip_validation\n\u001b[0;32m    214\u001b[0m         )\n\u001b[0;32m    215\u001b[0m     ):\n\u001b[1;32m--> 216\u001b[0m         \u001b[38;5;28;01mreturn\u001b[39;00m \u001b[43mfunc\u001b[49m\u001b[43m(\u001b[49m\u001b[38;5;241;43m*\u001b[39;49m\u001b[43margs\u001b[49m\u001b[43m,\u001b[49m\u001b[43m \u001b[49m\u001b[38;5;241;43m*\u001b[39;49m\u001b[38;5;241;43m*\u001b[39;49m\u001b[43mkwargs\u001b[49m\u001b[43m)\u001b[49m\n\u001b[0;32m    217\u001b[0m \u001b[38;5;28;01mexcept\u001b[39;00m InvalidParameterError \u001b[38;5;28;01mas\u001b[39;00m e:\n\u001b[0;32m    218\u001b[0m     \u001b[38;5;66;03m# When the function is just a wrapper around an estimator, we allow\u001b[39;00m\n\u001b[0;32m    219\u001b[0m     \u001b[38;5;66;03m# the function to delegate validation to the estimator, but we replace\u001b[39;00m\n\u001b[0;32m    220\u001b[0m     \u001b[38;5;66;03m# the name of the estimator by the name of the function in the error\u001b[39;00m\n\u001b[0;32m    221\u001b[0m     \u001b[38;5;66;03m# message to avoid confusion.\u001b[39;00m\n\u001b[0;32m    222\u001b[0m     msg \u001b[38;5;241m=\u001b[39m re\u001b[38;5;241m.\u001b[39msub(\n\u001b[0;32m    223\u001b[0m         \u001b[38;5;124mr\u001b[39m\u001b[38;5;124m\"\u001b[39m\u001b[38;5;124mparameter of \u001b[39m\u001b[38;5;124m\\\u001b[39m\u001b[38;5;124mw+ must be\u001b[39m\u001b[38;5;124m\"\u001b[39m,\n\u001b[0;32m    224\u001b[0m         \u001b[38;5;124mf\u001b[39m\u001b[38;5;124m\"\u001b[39m\u001b[38;5;124mparameter of \u001b[39m\u001b[38;5;132;01m{\u001b[39;00mfunc\u001b[38;5;241m.\u001b[39m\u001b[38;5;18m__qualname__\u001b[39m\u001b[38;5;132;01m}\u001b[39;00m\u001b[38;5;124m must be\u001b[39m\u001b[38;5;124m\"\u001b[39m,\n\u001b[0;32m    225\u001b[0m         \u001b[38;5;28mstr\u001b[39m(e),\n\u001b[0;32m    226\u001b[0m     )\n",
      "File \u001b[1;32md:\\THESIS\\homeAuto\\Lib\\site-packages\\sklearn\\model_selection\\_split.py:2851\u001b[0m, in \u001b[0;36mtrain_test_split\u001b[1;34m(test_size, train_size, random_state, shuffle, stratify, *arrays)\u001b[0m\n\u001b[0;32m   2848\u001b[0m arrays \u001b[38;5;241m=\u001b[39m indexable(\u001b[38;5;241m*\u001b[39marrays)\n\u001b[0;32m   2850\u001b[0m n_samples \u001b[38;5;241m=\u001b[39m _num_samples(arrays[\u001b[38;5;241m0\u001b[39m])\n\u001b[1;32m-> 2851\u001b[0m n_train, n_test \u001b[38;5;241m=\u001b[39m \u001b[43m_validate_shuffle_split\u001b[49m\u001b[43m(\u001b[49m\n\u001b[0;32m   2852\u001b[0m \u001b[43m    \u001b[49m\u001b[43mn_samples\u001b[49m\u001b[43m,\u001b[49m\u001b[43m \u001b[49m\u001b[43mtest_size\u001b[49m\u001b[43m,\u001b[49m\u001b[43m \u001b[49m\u001b[43mtrain_size\u001b[49m\u001b[43m,\u001b[49m\u001b[43m \u001b[49m\u001b[43mdefault_test_size\u001b[49m\u001b[38;5;241;43m=\u001b[39;49m\u001b[38;5;241;43m0.25\u001b[39;49m\n\u001b[0;32m   2853\u001b[0m \u001b[43m\u001b[49m\u001b[43m)\u001b[49m\n\u001b[0;32m   2855\u001b[0m \u001b[38;5;28;01mif\u001b[39;00m shuffle \u001b[38;5;129;01mis\u001b[39;00m \u001b[38;5;28;01mFalse\u001b[39;00m:\n\u001b[0;32m   2856\u001b[0m     \u001b[38;5;28;01mif\u001b[39;00m stratify \u001b[38;5;129;01mis\u001b[39;00m \u001b[38;5;129;01mnot\u001b[39;00m \u001b[38;5;28;01mNone\u001b[39;00m:\n",
      "File \u001b[1;32md:\\THESIS\\homeAuto\\Lib\\site-packages\\sklearn\\model_selection\\_split.py:2481\u001b[0m, in \u001b[0;36m_validate_shuffle_split\u001b[1;34m(n_samples, test_size, train_size, default_test_size)\u001b[0m\n\u001b[0;32m   2478\u001b[0m n_train, n_test \u001b[38;5;241m=\u001b[39m \u001b[38;5;28mint\u001b[39m(n_train), \u001b[38;5;28mint\u001b[39m(n_test)\n\u001b[0;32m   2480\u001b[0m \u001b[38;5;28;01mif\u001b[39;00m n_train \u001b[38;5;241m==\u001b[39m \u001b[38;5;241m0\u001b[39m:\n\u001b[1;32m-> 2481\u001b[0m     \u001b[38;5;28;01mraise\u001b[39;00m \u001b[38;5;167;01mValueError\u001b[39;00m(\n\u001b[0;32m   2482\u001b[0m         \u001b[38;5;124m\"\u001b[39m\u001b[38;5;124mWith n_samples=\u001b[39m\u001b[38;5;132;01m{}\u001b[39;00m\u001b[38;5;124m, test_size=\u001b[39m\u001b[38;5;132;01m{}\u001b[39;00m\u001b[38;5;124m and train_size=\u001b[39m\u001b[38;5;132;01m{}\u001b[39;00m\u001b[38;5;124m, the \u001b[39m\u001b[38;5;124m\"\u001b[39m\n\u001b[0;32m   2483\u001b[0m         \u001b[38;5;124m\"\u001b[39m\u001b[38;5;124mresulting train set will be empty. Adjust any of the \u001b[39m\u001b[38;5;124m\"\u001b[39m\n\u001b[0;32m   2484\u001b[0m         \u001b[38;5;124m\"\u001b[39m\u001b[38;5;124maforementioned parameters.\u001b[39m\u001b[38;5;124m\"\u001b[39m\u001b[38;5;241m.\u001b[39mformat(n_samples, test_size, train_size)\n\u001b[0;32m   2485\u001b[0m     )\n\u001b[0;32m   2487\u001b[0m \u001b[38;5;28;01mreturn\u001b[39;00m n_train, n_test\n",
      "\u001b[1;31mValueError\u001b[0m: With n_samples=1, test_size=0.3 and train_size=None, the resulting train set will be empty. Adjust any of the aforementioned parameters."
     ]
    }
   ],
   "source": [
    "# Perform stratified split while keeping multi-room commands intact\n",
    "for key, samples in grouped_data.items():\n",
    "    num_samples = len(samples)\n",
    "\n",
    "    # Warning for underrepresented classes\n",
    "    if num_samples < 10:\n",
    "        print(f\"⚠ Warning: Category {key} has only {num_samples} samples. It may not split well.\")\n",
    "\n",
    "    # Perform stratified train-val-test split\n",
    "    train, temp = train_test_split(samples, test_size=(val_ratio + test_ratio), random_state=42)\n",
    "    val, test = train_test_split(temp, test_size=(test_ratio / (test_ratio + val_ratio)), random_state=42)\n",
    "\n",
    "    train_set.extend(train)\n",
    "    val_set.extend(val)\n",
    "    test_set.extend(test)"
   ]
  },
  {
   "cell_type": "code",
   "execution_count": 31,
   "metadata": {},
   "outputs": [],
   "source": [
    "# Function to compute category distribution in the dataset\n",
    "def compute_distribution(dataset, name):\n",
    "    counter = Counter((entry[\"intent\"], tuple(sorted(entry[\"rooms\"])), \n",
    "                       tuple(sorted((action[\"room\"], action[\"action\"]) for action in entry[\"actions\"]))) \n",
    "                      for entry in dataset)\n",
    "    \n",
    "    print(f\"\\n{name} set distribution:\")\n",
    "    for category, count in counter.items():\n",
    "        print(f\"  {category}: {count} samples\")"
   ]
  },
  {
   "cell_type": "code",
   "execution_count": 32,
   "metadata": {},
   "outputs": [
    {
     "name": "stdout",
     "output_type": "stream",
     "text": [
      "\n",
      "Train set distribution:\n",
      "  ('single_room_control', ('kitchen',), (('kitchen', 'turn_off'),)): 160 samples\n",
      "  ('single_room_control', ('store room',), (('store room', 'turn_on'),)): 266 samples\n",
      "  ('multi_room_control', ('kitchen', 'living room'), (('kitchen', 'adjust_brightness'), ('living room', 'adjust_brightness'))): 78 samples\n",
      "  ('single_room_control', ('balcony',), (('balcony', 'turn_off'),)): 224 samples\n",
      "  ('single_room_control', ('study room',), (('study room', 'change_color'),)): 230 samples\n",
      "  ('single_room_control', ('bedroom',), (('bedroom', 'adjust_brightness'),)): 302 samples\n",
      "  ('single_room_control', ('kitchen',), (('kitchen', 'change_color'),)): 498 samples\n",
      "\n",
      "Validation set distribution:\n",
      "  ('single_room_control', ('kitchen',), (('kitchen', 'turn_off'),)): 34 samples\n",
      "  ('single_room_control', ('store room',), (('store room', 'turn_on'),)): 58 samples\n",
      "  ('multi_room_control', ('kitchen', 'living room'), (('kitchen', 'adjust_brightness'), ('living room', 'adjust_brightness'))): 16 samples\n",
      "  ('single_room_control', ('balcony',), (('balcony', 'turn_off'),)): 48 samples\n",
      "  ('single_room_control', ('study room',), (('study room', 'change_color'),)): 50 samples\n",
      "  ('single_room_control', ('bedroom',), (('bedroom', 'adjust_brightness'),)): 64 samples\n",
      "  ('single_room_control', ('kitchen',), (('kitchen', 'change_color'),)): 108 samples\n",
      "\n",
      "Test set distribution:\n",
      "  ('single_room_control', ('kitchen',), (('kitchen', 'turn_off'),)): 36 samples\n",
      "  ('single_room_control', ('store room',), (('store room', 'turn_on'),)): 58 samples\n",
      "  ('multi_room_control', ('kitchen', 'living room'), (('kitchen', 'adjust_brightness'), ('living room', 'adjust_brightness'))): 18 samples\n",
      "  ('single_room_control', ('balcony',), (('balcony', 'turn_off'),)): 48 samples\n",
      "  ('single_room_control', ('study room',), (('study room', 'change_color'),)): 50 samples\n",
      "  ('single_room_control', ('bedroom',), (('bedroom', 'adjust_brightness'),)): 66 samples\n",
      "  ('single_room_control', ('kitchen',), (('kitchen', 'change_color'),)): 108 samples\n"
     ]
    }
   ],
   "source": [
    "# Display distributions\n",
    "compute_distribution(train_set, \"Train\")\n",
    "compute_distribution(val_set, \"Validation\")\n",
    "compute_distribution(test_set, \"Test\")"
   ]
  },
  {
   "cell_type": "code",
   "execution_count": 33,
   "metadata": {},
   "outputs": [
    {
     "name": "stdout",
     "output_type": "stream",
     "text": [
      "\n",
      "✅ Dataset split complete: 1758 train, 378 val, 384 test samples\n"
     ]
    }
   ],
   "source": [
    "# Save the split datasets\n",
    "with open(\"train.json\", \"w\", encoding=\"utf-8\") as f:\n",
    "    json.dump(train_set, f, indent=4)\n",
    "with open(\"val.json\", \"w\", encoding=\"utf-8\") as f:\n",
    "    json.dump(val_set, f, indent=4)\n",
    "with open(\"test.json\", \"w\", encoding=\"utf-8\") as f:\n",
    "    json.dump(test_set, f, indent=4)\n",
    "\n",
    "print(f\"\\n✅ Dataset split complete: {len(train_set)} train, {len(val_set)} val, {len(test_set)} test samples\")"
   ]
  },
  {
   "cell_type": "code",
   "execution_count": null,
   "metadata": {},
   "outputs": [],
   "source": []
  }
 ],
 "metadata": {
  "kernelspec": {
   "display_name": "homeAuto",
   "language": "python",
   "name": "python3"
  },
  "language_info": {
   "codemirror_mode": {
    "name": "ipython",
    "version": 3
   },
   "file_extension": ".py",
   "mimetype": "text/x-python",
   "name": "python",
   "nbconvert_exporter": "python",
   "pygments_lexer": "ipython3",
   "version": "3.12.2"
  }
 },
 "nbformat": 4,
 "nbformat_minor": 2
}
