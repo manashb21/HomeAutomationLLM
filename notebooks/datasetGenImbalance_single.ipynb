{
 "cells": [
  {
   "cell_type": "markdown",
   "metadata": {},
   "source": [
    "### This notebook specifially focuses on generating additional data for **SINGLE ROOM** control. \n",
    "#### Why? To address the imbalance in dataset where many rooms were not addressed."
   ]
  },
  {
   "cell_type": "code",
   "execution_count": 42,
   "metadata": {},
   "outputs": [],
   "source": [
    "import os\n",
    "import json\n",
    "from dotenv import load_dotenv\n",
    "from openai import OpenAI\n",
    "from typing import List, Dict\n",
    "import random\n",
    "import shutil\n",
    "\n",
    "import sys\n",
    "sys.path.append('../scripts')  \n",
    "\n",
    "from jsontocsv import update_csv_from_json"
   ]
  },
  {
   "cell_type": "code",
   "execution_count": 43,
   "metadata": {},
   "outputs": [],
   "source": [
    "load_dotenv()\n",
    "# Configure OpenAI API key\n",
    "openai = OpenAI()\n",
    "api_key = os.getenv(\"OPENAI_API_KEY\")"
   ]
  },
  {
   "cell_type": "code",
   "execution_count": 44,
   "metadata": {},
   "outputs": [],
   "source": [
    "system = '''You are an assistant trained to generate Nepali-English code-mixed smart home control commands for fine-tuning a language model. \n",
    "Your task is to follow the updated guidelines and create commands as provided in the examples.'''"
   ]
  },
  {
   "cell_type": "code",
   "execution_count": 45,
   "metadata": {},
   "outputs": [],
   "source": [
    "user = '''1. Guideline for Commands:\n",
    "   - Commands should be **Nepali-English code-mixed**, with some in **full English** and **Nepali-dominant**, but written in **Romanized Nepali** (transliterated Nepali to English):\n",
    "     - **50% Code-Mixed:** e.g., \"bardali ko batti balnu\" or \"balcony lights dim gara\".\n",
    "     - **30% Fully English:** e.g., \"Turn on the store room lights.\"\n",
    "     - **20% Nepali-Dominant (Transliterated):** e.g., \"Kausi ko batti balera rakhnus.\"\n",
    "   - **Do not** generate commands in fully native Nepali script (e.g., \"भान्सा\" or \"किचन\"). Use Romanized Nepali instead.\n",
    "   - Incorporate natural variations in grammar, phrasing, and spelling.\n",
    "   - Commands may include requests or polite phrasing. For instance:\n",
    "     - Store room ko batti off garna milcha?\n",
    "     - Can you brighten the dining area lights?\n",
    "     - Could you dim the bardali lights, please?\n",
    "\n",
    "2. Room Names:\n",
    "   - Generate commands for the following rooms:\n",
    "     - **Store Room**: `store`, `store room`.\n",
    "     - **Bathroom**: `bathroom`, `snaan kotha`.\n",
    "     - **Terrace**: `kausi`, `chat`, `chhat`.\n",
    "     - **Corridor**: `baato`, `bato`.\n",
    "     - **Dining Area**: `dining`, `dining area`, `khaana kotha`.\n",
    "     - **Prayer Room**: `puja kotha`, `mandir`.\n",
    "\n",
    "3. Intent:\n",
    "   - Generate commands exclusively for **single_room_control** intent.\n",
    "   - Each command should involve only one room.\n",
    "   - Example: \"Dim the bathroom lights to 50%.\"\n",
    "\n",
    "4. JSON Output Requirements:\n",
    "   - Translate Nepali transliterations to English room names in the `actions` section.\n",
    "   - Follow this consistent JSON structure:\n",
    "     {\n",
    "      \"command\": \"<natural language command>\",\n",
    "      \"intent\": \"single_room_control\",\n",
    "      \"rooms\": [\n",
    "          \"<room_name>\"\n",
    "      ],\n",
    "      \"actions\": [\n",
    "          {\n",
    "              \"room\": \"<room_name>\",\n",
    "              \"action\": \"<turn_on | turn_off | adjust_brightness | change_color>\",\n",
    "              \"brightness\": \"<optional: 0 to 1>\",\n",
    "              \"color\": \"<optional: red | blue | green | etc.>\"\n",
    "          }\n",
    "      ]\n",
    "    }\n",
    "\n",
    "5. Examples:\n",
    "   - **Code-Mixed:** \n",
    "     ```json\n",
    "     {\n",
    "       \"command\": \"Bathroom ko batti dim gara.\",\n",
    "       \"intent\": \"single_room_control\",\n",
    "       \"rooms\": [\"bathroom\"],\n",
    "       \"actions\": [\n",
    "           {\n",
    "               \"room\": \"bathroom\",\n",
    "               \"action\": \"adjust_brightness\",\n",
    "               \"brightness\": 0.3\n",
    "           }\n",
    "       ]\n",
    "     }\n",
    "     ```\n",
    "   - **Fully English:**\n",
    "     ```json\n",
    "     {\n",
    "       \"command\": \"Brighten the prayer room lights to full.\",\n",
    "       \"intent\": \"single_room_control\",\n",
    "       \"rooms\": [\"prayer room\"],\n",
    "       \"actions\": [\n",
    "           {\n",
    "               \"room\": \"prayer room\",\n",
    "               \"action\": \"adjust_brightness\",\n",
    "               \"brightness\": 1.0\n",
    "           }\n",
    "       ]\n",
    "     }\n",
    "     ```\n",
    "\n",
    "6. Generate Variations:\n",
    "   - Generate 20 commands as an array of JSON objects following these guidelines, ensuring diversity and natural phrasing.\n",
    "   - Include all listed rooms across commands.'''\n"
   ]
  },
  {
   "cell_type": "code",
   "execution_count": 46,
   "metadata": {},
   "outputs": [],
   "source": [
    "def builder(system, user):\n",
    "    return [{\"role\":\"system\", \"content\":system},\n",
    "            {\"role\":\"user\", \"content\":user}\n",
    "           ]       "
   ]
  },
  {
   "cell_type": "code",
   "execution_count": 47,
   "metadata": {},
   "outputs": [],
   "source": [
    "# combining all the steps\n",
    "def generate_dataset(system, user):\n",
    "    try:\n",
    "        response = openai.chat.completions.create(model = \"gpt-4o\",\n",
    "                                                  messages = builder(system, user),\n",
    "                                                  temperature = 0.8, \n",
    "                                                  # max_tokens = 2000,\n",
    "                                                #   response_format={\"type\": \"json_object\"}\n",
    "                                                  )\n",
    "        # dataset = json.loads(response.choices[0].message.content)\n",
    "        dataset = (response.choices[0].message.content)\n",
    "        return dataset\n",
    "    except Exception as e:\n",
    "        print(f\"Error generating dataset: {str(e)}\")\n",
    "        return []"
   ]
  },
  {
   "cell_type": "code",
   "execution_count": 48,
   "metadata": {},
   "outputs": [],
   "source": [
    "# function to save the dataset as json      \n",
    "def save_dataset(dataset: List[Dict], filename: str):\n",
    "    \"\"\"Save the generated dataset to a JSON file\"\"\"\n",
    "    with open(filename, 'w', encoding='utf-8') as f:\n",
    "        json.dump(dataset, f, ensure_ascii=False, indent=4)"
   ]
  },
  {
   "cell_type": "code",
   "execution_count": 49,
   "metadata": {},
   "outputs": [],
   "source": [
    "def tojsonDump():\n",
    "    root_path = \"../data/jsonRawAdditionalSingle\"\n",
    "    try:\n",
    "        # Ensure the directory exists\n",
    "        os.makedirs(root_path, exist_ok=True)\n",
    "        \n",
    "        if len(os.listdir(root_path)) == 0:\n",
    "            shutil.copy(\"light_automation_dataset.json\", \"light_automation_dataset_1.json\")\n",
    "            shutil.move(\"light_automation_dataset_1.json\", root_path)\n",
    "        else:\n",
    "            num = len(os.listdir(root_path)) + 1\n",
    "            fname = \"light_automation_dataset_\" + f\"{num}\" + \".json\"\n",
    "            shutil.copy(\"light_automation_dataset.json\", fname)\n",
    "            shutil.move(fname, root_path)\n",
    "        print(\"Moved successfully to jsonDump. File: \", fname)\n",
    "    except Exception as e:\n",
    "        print(f\"Error moving to {root_path}\", str(e))\n"
   ]
  },
  {
   "cell_type": "code",
   "execution_count": 51,
   "metadata": {},
   "outputs": [
    {
     "name": "stdout",
     "output_type": "stream",
     "text": [
      "Successfully generated and saved 20 samples to light_automation_dataset.json\n",
      "Moved successfully to jsonDump. File:  light_automation_dataset_2.json\n"
     ]
    }
   ],
   "source": [
    "if __name__ == \"__main__\":\n",
    "    dataset = generate_dataset(system, user)\n",
    "    \n",
    "    if dataset:\n",
    "        #Save the dataset\n",
    "        dataset1 = dataset[7:]\n",
    "        dataset1 = dataset1[:-3]\n",
    "        dataset1 = json.loads(dataset1)\n",
    "        save_dataset(dataset1, \"light_automation_dataset.json\")\n",
    "        print(f\"Successfully generated and saved {len(dataset1)} samples to light_automation_dataset.json\")\n",
    "        tojsonDump()\n",
    "        # update_csv_from_json(\"light_automation_dataset.json\", \"annotator_data.csv\")\n",
    "    else:\n",
    "        print(\"Failed to generate dataset\")"
   ]
  },
  {
   "cell_type": "code",
   "execution_count": 78,
   "metadata": {},
   "outputs": [
    {
     "name": "stdout",
     "output_type": "stream",
     "text": [
      "Itr:  1\n",
      "Successfully generated and saved 20 samples to light_automation_dataset.json\n",
      "Moved successfully to jsonDump. File:  light_automation_dataset_88.json\n",
      "Itr:  2\n",
      "Successfully generated and saved 20 samples to light_automation_dataset.json\n",
      "Moved successfully to jsonDump. File:  light_automation_dataset_89.json\n",
      "Itr:  3\n",
      "Successfully generated and saved 20 samples to light_automation_dataset.json\n",
      "Moved successfully to jsonDump. File:  light_automation_dataset_90.json\n",
      "Itr:  4\n",
      "Successfully generated and saved 20 samples to light_automation_dataset.json\n",
      "Moved successfully to jsonDump. File:  light_automation_dataset_91.json\n",
      "Itr:  5\n",
      "Successfully generated and saved 20 samples to light_automation_dataset.json\n",
      "Moved successfully to jsonDump. File:  light_automation_dataset_92.json\n",
      "Itr:  6\n",
      "Successfully generated and saved 20 samples to light_automation_dataset.json\n",
      "Moved successfully to jsonDump. File:  light_automation_dataset_93.json\n",
      "Itr:  7\n",
      "Successfully generated and saved 20 samples to light_automation_dataset.json\n",
      "Moved successfully to jsonDump. File:  light_automation_dataset_94.json\n",
      "Itr:  8\n",
      "Successfully generated and saved 20 samples to light_automation_dataset.json\n",
      "Moved successfully to jsonDump. File:  light_automation_dataset_95.json\n",
      "Itr:  9\n",
      "Successfully generated and saved 20 samples to light_automation_dataset.json\n",
      "Moved successfully to jsonDump. File:  light_automation_dataset_96.json\n",
      "Itr:  10\n",
      "Successfully generated and saved 20 samples to light_automation_dataset.json\n",
      "Moved successfully to jsonDump. File:  light_automation_dataset_97.json\n",
      "Itr:  11\n",
      "Successfully generated and saved 20 samples to light_automation_dataset.json\n",
      "Moved successfully to jsonDump. File:  light_automation_dataset_98.json\n",
      "Itr:  12\n",
      "Successfully generated and saved 20 samples to light_automation_dataset.json\n",
      "Moved successfully to jsonDump. File:  light_automation_dataset_99.json\n",
      "Itr:  13\n",
      "Successfully generated and saved 20 samples to light_automation_dataset.json\n",
      "Moved successfully to jsonDump. File:  light_automation_dataset_100.json\n",
      "Itr:  14\n",
      "Successfully generated and saved 20 samples to light_automation_dataset.json\n",
      "Moved successfully to jsonDump. File:  light_automation_dataset_101.json\n",
      "Itr:  15\n",
      "Successfully generated and saved 20 samples to light_automation_dataset.json\n",
      "Moved successfully to jsonDump. File:  light_automation_dataset_102.json\n",
      "Itr:  16\n",
      "Successfully generated and saved 20 samples to light_automation_dataset.json\n",
      "Moved successfully to jsonDump. File:  light_automation_dataset_103.json\n",
      "Itr:  17\n",
      "Successfully generated and saved 20 samples to light_automation_dataset.json\n",
      "Moved successfully to jsonDump. File:  light_automation_dataset_104.json\n",
      "Itr:  18\n",
      "Successfully generated and saved 20 samples to light_automation_dataset.json\n",
      "Moved successfully to jsonDump. File:  light_automation_dataset_105.json\n",
      "Itr:  19\n",
      "Successfully generated and saved 20 samples to light_automation_dataset.json\n",
      "Moved successfully to jsonDump. File:  light_automation_dataset_106.json\n",
      "Itr:  20\n",
      "Successfully generated and saved 20 samples to light_automation_dataset.json\n",
      "Moved successfully to jsonDump. File:  light_automation_dataset_107.json\n"
     ]
    }
   ],
   "source": [
    "for i in range(20):\n",
    "    print(\"Itr: \", i+1)\n",
    "    dataset = generate_dataset(system, user)\n",
    "    \n",
    "    if dataset:\n",
    "        #Save the dataset\n",
    "        dataset1 = dataset[7:]\n",
    "        dataset1 = dataset1[:-3]\n",
    "        dataset1 = json.loads(dataset1)\n",
    "        save_dataset(dataset1, \"light_automation_dataset.json\")\n",
    "        print(f\"Successfully generated and saved {len(dataset1)} samples to light_automation_dataset.json\")\n",
    "        tojsonDump()\n",
    "        # update_csv_from_json(\"light_automation_dataset.json\", \"annotator_data.csv\")\n",
    "    else:\n",
    "        print(\"Failed to generate dataset\")"
   ]
  },
  {
   "cell_type": "markdown",
   "metadata": {},
   "source": [
    "- Generating 20 rows of data for 20 iterations, or total 400 rows of data takes approx. **8 - 10** minutes"
   ]
  },
  {
   "cell_type": "code",
   "execution_count": 79,
   "metadata": {},
   "outputs": [
    {
     "name": "stdout",
     "output_type": "stream",
     "text": [
      "2140\n"
     ]
    }
   ],
   "source": [
    "import json\n",
    "root = \"../data/jsonRawAdditionalSingle\"\n",
    "length = 0\n",
    "for file in (os.listdir(root)):\n",
    "    fullpath = os.path.join(root, file)\n",
    "    with open(fullpath, 'r') as jsonFile:\n",
    "        f = json.load(jsonFile)\n",
    "    length += len(f)\n",
    "print(length)"
   ]
  },
  {
   "cell_type": "code",
   "execution_count": null,
   "metadata": {},
   "outputs": [],
   "source": []
  }
 ],
 "metadata": {
  "kernelspec": {
   "display_name": "homeAuto",
   "language": "python",
   "name": "python3"
  },
  "language_info": {
   "codemirror_mode": {
    "name": "ipython",
    "version": 3
   },
   "file_extension": ".py",
   "mimetype": "text/x-python",
   "name": "python",
   "nbconvert_exporter": "python",
   "pygments_lexer": "ipython3",
   "version": "3.12.2"
  }
 },
 "nbformat": 4,
 "nbformat_minor": 2
}
