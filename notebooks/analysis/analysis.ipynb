{
 "cells": [
  {
   "cell_type": "code",
   "execution_count": 1,
   "metadata": {},
   "outputs": [],
   "source": [
    "import json\n",
    "import pandas as pd\n",
    "import os"
   ]
  },
  {
   "cell_type": "code",
   "execution_count": 2,
   "metadata": {},
   "outputs": [],
   "source": [
    "# Load the JSON dataset, using the restructured dataset.\n",
    "root_path = \"../data\"\n",
    "file_name = 'restructured_dataset.json'\n",
    "\n",
    "file_path = os.path.join(root_path, file_name)\n",
    "with open(file_path, 'r', encoding='utf-8') as file:\n",
    "    data = json.load(file)"
   ]
  },
  {
   "cell_type": "code",
   "execution_count": 3,
   "metadata": {},
   "outputs": [
    {
     "data": {
      "text/plain": [
       "6044"
      ]
     },
     "execution_count": 3,
     "metadata": {},
     "output_type": "execute_result"
    }
   ],
   "source": [
    "len(data)"
   ]
  },
  {
   "cell_type": "code",
   "execution_count": 4,
   "metadata": {},
   "outputs": [],
   "source": [
    "df = pd.DataFrame(data)"
   ]
  },
  {
   "cell_type": "code",
   "execution_count": 5,
   "metadata": {},
   "outputs": [],
   "source": [
    "# 1. Dataset overview\n",
    "overview = {\n",
    "    \"Total Commands\": len(df),\n",
    "    \"Unique Intents\": df['intent'].nunique(),\n",
    "    \"Intent Distribution\": df['intent'].value_counts().to_dict(),\n",
    "}"
   ]
  },
  {
   "cell_type": "code",
   "execution_count": 6,
   "metadata": {},
   "outputs": [
    {
     "data": {
      "text/plain": [
       "{'Total Commands': 6044,\n",
       " 'Unique Intents': 2,\n",
       " 'Intent Distribution': {'single_room_control': 4851,\n",
       "  'multi_room_control': 1193}}"
      ]
     },
     "execution_count": 6,
     "metadata": {},
     "output_type": "execute_result"
    }
   ],
   "source": [
    "overview"
   ]
  },
  {
   "cell_type": "code",
   "execution_count": 19,
   "metadata": {},
   "outputs": [],
   "source": [
    "#ensure all room-action pairs in multi_room_control are correctly expanded\n",
    "explicit_records = []\n",
    "\n",
    "for item in data:\n",
    "    if item['intent'] == 'multi_room_control':\n",
    "        # Iterate through actions to handle multiple room-action pairs\n",
    "        for action in item.get('actions', []):\n",
    "            explicit_records.append({\n",
    "                'command': item['command'],\n",
    "                'intent': item['intent'],\n",
    "                'room': action.get('room', None),  # Specific room for this action\n",
    "                'action': action.get('action', None),  # Corresponding action\n",
    "                'color': action.get('color', None),\n",
    "                'brightness': action.get('brightness', None)\n",
    "            })\n",
    "    else:  # Single room control and other intents\n",
    "        for action in item.get('actions', []):\n",
    "            explicit_records.append({\n",
    "                'command': item['command'],\n",
    "                'intent': item['intent'],\n",
    "                'room': action.get('room', None),\n",
    "                'action': action.get('action', None),\n",
    "                'color': action.get('color', None),\n",
    "                'brightness': action.get('brightness', None)\n",
    "            })"
   ]
  },
  {
   "cell_type": "code",
   "execution_count": 20,
   "metadata": {},
   "outputs": [],
   "source": [
    "# Convert the explicitly processed records into a DataFrame\n",
    "explicit_df = pd.DataFrame(explicit_records)"
   ]
  },
  {
   "cell_type": "code",
   "execution_count": 40,
   "metadata": {},
   "outputs": [
    {
     "data": {
      "text/plain": [
       "7304"
      ]
     },
     "execution_count": 40,
     "metadata": {},
     "output_type": "execute_result"
    }
   ],
   "source": [
    "len(explicit_df)"
   ]
  },
  {
   "cell_type": "code",
   "execution_count": 22,
   "metadata": {},
   "outputs": [
    {
     "data": {
      "text/plain": [
       "{'Total Records': 7304,\n",
       " 'Unique Intents': 4,\n",
       " 'Unique Rooms': 15,\n",
       " 'Unique Actions': 4,\n",
       " 'Null Values': {'command': 0,\n",
       "  'intent': 0,\n",
       "  'room': 0,\n",
       "  'action': 0,\n",
       "  'color': 5525,\n",
       "  'brightness': 5356}}"
      ]
     },
     "execution_count": 22,
     "metadata": {},
     "output_type": "execute_result"
    }
   ],
   "source": [
    "# Verify explicit dataset stats and check a sample of multi_room_control rows\n",
    "explicit_info = {\n",
    "    \"Total Records\": len(explicit_df),\n",
    "    \"Unique Intents\": explicit_df['intent'].nunique(),\n",
    "    \"Unique Rooms\": explicit_df['room'].nunique(),\n",
    "    \"Unique Actions\": explicit_df['action'].nunique(),\n",
    "    \"Null Values\": explicit_df.isnull().sum().to_dict()\n",
    "}\n",
    "\n",
    "explicit_info"
   ]
  },
  {
   "cell_type": "code",
   "execution_count": 24,
   "metadata": {},
   "outputs": [
    {
     "data": {
      "text/html": [
       "<div>\n",
       "<style scoped>\n",
       "    .dataframe tbody tr th:only-of-type {\n",
       "        vertical-align: middle;\n",
       "    }\n",
       "\n",
       "    .dataframe tbody tr th {\n",
       "        vertical-align: top;\n",
       "    }\n",
       "\n",
       "    .dataframe thead th {\n",
       "        text-align: right;\n",
       "    }\n",
       "</style>\n",
       "<table border=\"1\" class=\"dataframe\">\n",
       "  <thead>\n",
       "    <tr style=\"text-align: right;\">\n",
       "      <th></th>\n",
       "      <th>command</th>\n",
       "      <th>intent</th>\n",
       "      <th>room</th>\n",
       "      <th>action</th>\n",
       "      <th>color</th>\n",
       "      <th>brightness</th>\n",
       "    </tr>\n",
       "  </thead>\n",
       "  <tbody>\n",
       "    <tr>\n",
       "      <th>0</th>\n",
       "      <td>Kitchen ko lights off garidinus.</td>\n",
       "      <td>single_room_control</td>\n",
       "      <td>kitchen</td>\n",
       "      <td>turn_off</td>\n",
       "      <td>None</td>\n",
       "      <td>NaN</td>\n",
       "    </tr>\n",
       "    <tr>\n",
       "      <th>1</th>\n",
       "      <td>Please turn on the store room lights.</td>\n",
       "      <td>single_room_control</td>\n",
       "      <td>store room</td>\n",
       "      <td>turn_on</td>\n",
       "      <td>None</td>\n",
       "      <td>NaN</td>\n",
       "    </tr>\n",
       "    <tr>\n",
       "      <th>2</th>\n",
       "      <td>Baithak kotha and bhaancha ko lights full brig...</td>\n",
       "      <td>multi_room_control</td>\n",
       "      <td>living room</td>\n",
       "      <td>adjust_brightness</td>\n",
       "      <td>None</td>\n",
       "      <td>1.0</td>\n",
       "    </tr>\n",
       "    <tr>\n",
       "      <th>3</th>\n",
       "      <td>Baithak kotha and bhaancha ko lights full brig...</td>\n",
       "      <td>multi_room_control</td>\n",
       "      <td>kitchen</td>\n",
       "      <td>adjust_brightness</td>\n",
       "      <td>None</td>\n",
       "      <td>1.0</td>\n",
       "    </tr>\n",
       "    <tr>\n",
       "      <th>4</th>\n",
       "      <td>Turn off the balcony lights.</td>\n",
       "      <td>single_room_control</td>\n",
       "      <td>balcony</td>\n",
       "      <td>turn_off</td>\n",
       "      <td>None</td>\n",
       "      <td>NaN</td>\n",
       "    </tr>\n",
       "    <tr>\n",
       "      <th>5</th>\n",
       "      <td>Padhney kotha ko light blue color ma change ga...</td>\n",
       "      <td>change_color</td>\n",
       "      <td>study room</td>\n",
       "      <td>change_color</td>\n",
       "      <td>blue</td>\n",
       "      <td>NaN</td>\n",
       "    </tr>\n",
       "    <tr>\n",
       "      <th>6</th>\n",
       "      <td>Can you adjust the brightness to 0.5 in the be...</td>\n",
       "      <td>single_room_control</td>\n",
       "      <td>bedroom</td>\n",
       "      <td>adjust_brightness</td>\n",
       "      <td>None</td>\n",
       "      <td>0.5</td>\n",
       "    </tr>\n",
       "    <tr>\n",
       "      <th>7</th>\n",
       "      <td>Bhaanchaa kotha ko batti laal color ma change ...</td>\n",
       "      <td>change_color</td>\n",
       "      <td>kitchen</td>\n",
       "      <td>change_color</td>\n",
       "      <td>red</td>\n",
       "      <td>NaN</td>\n",
       "    </tr>\n",
       "    <tr>\n",
       "      <th>8</th>\n",
       "      <td>Please turn on the corridor lights and dim the...</td>\n",
       "      <td>multi_room_control</td>\n",
       "      <td>corridor</td>\n",
       "      <td>turn_on</td>\n",
       "      <td>None</td>\n",
       "      <td>NaN</td>\n",
       "    </tr>\n",
       "    <tr>\n",
       "      <th>9</th>\n",
       "      <td>Please turn on the corridor lights and dim the...</td>\n",
       "      <td>multi_room_control</td>\n",
       "      <td>terrace</td>\n",
       "      <td>adjust_brightness</td>\n",
       "      <td>None</td>\n",
       "      <td>0.2</td>\n",
       "    </tr>\n",
       "    <tr>\n",
       "      <th>10</th>\n",
       "      <td>Bato ko lights off garera baranda ko lights on...</td>\n",
       "      <td>multi_room_control</td>\n",
       "      <td>corridor</td>\n",
       "      <td>turn_off</td>\n",
       "      <td>None</td>\n",
       "      <td>NaN</td>\n",
       "    </tr>\n",
       "    <tr>\n",
       "      <th>11</th>\n",
       "      <td>Bato ko lights off garera baranda ko lights on...</td>\n",
       "      <td>multi_room_control</td>\n",
       "      <td>balcony</td>\n",
       "      <td>turn_on</td>\n",
       "      <td>None</td>\n",
       "      <td>NaN</td>\n",
       "    </tr>\n",
       "    <tr>\n",
       "      <th>12</th>\n",
       "      <td>Could you change the light color to green in p...</td>\n",
       "      <td>change_color</td>\n",
       "      <td>prayer room</td>\n",
       "      <td>change_color</td>\n",
       "      <td>green</td>\n",
       "      <td>NaN</td>\n",
       "    </tr>\n",
       "    <tr>\n",
       "      <th>13</th>\n",
       "      <td>Baithak kothaa ko light off garnus.</td>\n",
       "      <td>single_room_control</td>\n",
       "      <td>living room</td>\n",
       "      <td>turn_off</td>\n",
       "      <td>None</td>\n",
       "      <td>NaN</td>\n",
       "    </tr>\n",
       "    <tr>\n",
       "      <th>14</th>\n",
       "      <td>Can you turn on the kitchen lights?</td>\n",
       "      <td>single_room_control</td>\n",
       "      <td>kitchen</td>\n",
       "      <td>turn_on</td>\n",
       "      <td>None</td>\n",
       "      <td>NaN</td>\n",
       "    </tr>\n",
       "    <tr>\n",
       "      <th>15</th>\n",
       "      <td>Bhaanchaa ko light blue color ma badalnus.</td>\n",
       "      <td>change_color</td>\n",
       "      <td>kitchen</td>\n",
       "      <td>change_color</td>\n",
       "      <td>blue</td>\n",
       "      <td>NaN</td>\n",
       "    </tr>\n",
       "    <tr>\n",
       "      <th>16</th>\n",
       "      <td>Please adjust the brightness to medium in the ...</td>\n",
       "      <td>adjust_brightness</td>\n",
       "      <td>bedroom</td>\n",
       "      <td>adjust_brightness</td>\n",
       "      <td>None</td>\n",
       "      <td>0.5</td>\n",
       "    </tr>\n",
       "    <tr>\n",
       "      <th>17</th>\n",
       "      <td>Padhney kotha ko batti dim garnu.</td>\n",
       "      <td>adjust_brightness</td>\n",
       "      <td>study room</td>\n",
       "      <td>adjust_brightness</td>\n",
       "      <td>None</td>\n",
       "      <td>0.2</td>\n",
       "    </tr>\n",
       "    <tr>\n",
       "      <th>18</th>\n",
       "      <td>Turn off the store room lights.</td>\n",
       "      <td>single_room_control</td>\n",
       "      <td>store room</td>\n",
       "      <td>turn_off</td>\n",
       "      <td>None</td>\n",
       "      <td>NaN</td>\n",
       "    </tr>\n",
       "    <tr>\n",
       "      <th>19</th>\n",
       "      <td>Mandir ma light on gardinus.</td>\n",
       "      <td>single_room_control</td>\n",
       "      <td>prayer room</td>\n",
       "      <td>turn_on</td>\n",
       "      <td>None</td>\n",
       "      <td>NaN</td>\n",
       "    </tr>\n",
       "  </tbody>\n",
       "</table>\n",
       "</div>"
      ],
      "text/plain": [
       "                                              command               intent  \\\n",
       "0                    Kitchen ko lights off garidinus.  single_room_control   \n",
       "1               Please turn on the store room lights.  single_room_control   \n",
       "2   Baithak kotha and bhaancha ko lights full brig...   multi_room_control   \n",
       "3   Baithak kotha and bhaancha ko lights full brig...   multi_room_control   \n",
       "4                        Turn off the balcony lights.  single_room_control   \n",
       "5   Padhney kotha ko light blue color ma change ga...         change_color   \n",
       "6   Can you adjust the brightness to 0.5 in the be...  single_room_control   \n",
       "7   Bhaanchaa kotha ko batti laal color ma change ...         change_color   \n",
       "8   Please turn on the corridor lights and dim the...   multi_room_control   \n",
       "9   Please turn on the corridor lights and dim the...   multi_room_control   \n",
       "10  Bato ko lights off garera baranda ko lights on...   multi_room_control   \n",
       "11  Bato ko lights off garera baranda ko lights on...   multi_room_control   \n",
       "12  Could you change the light color to green in p...         change_color   \n",
       "13                Baithak kothaa ko light off garnus.  single_room_control   \n",
       "14                Can you turn on the kitchen lights?  single_room_control   \n",
       "15         Bhaanchaa ko light blue color ma badalnus.         change_color   \n",
       "16  Please adjust the brightness to medium in the ...    adjust_brightness   \n",
       "17                  Padhney kotha ko batti dim garnu.    adjust_brightness   \n",
       "18                    Turn off the store room lights.  single_room_control   \n",
       "19                       Mandir ma light on gardinus.  single_room_control   \n",
       "\n",
       "           room             action  color  brightness  \n",
       "0       kitchen           turn_off   None         NaN  \n",
       "1    store room            turn_on   None         NaN  \n",
       "2   living room  adjust_brightness   None         1.0  \n",
       "3       kitchen  adjust_brightness   None         1.0  \n",
       "4       balcony           turn_off   None         NaN  \n",
       "5    study room       change_color   blue         NaN  \n",
       "6       bedroom  adjust_brightness   None         0.5  \n",
       "7       kitchen       change_color    red         NaN  \n",
       "8      corridor            turn_on   None         NaN  \n",
       "9       terrace  adjust_brightness   None         0.2  \n",
       "10     corridor           turn_off   None         NaN  \n",
       "11      balcony            turn_on   None         NaN  \n",
       "12  prayer room       change_color  green         NaN  \n",
       "13  living room           turn_off   None         NaN  \n",
       "14      kitchen            turn_on   None         NaN  \n",
       "15      kitchen       change_color   blue         NaN  \n",
       "16      bedroom  adjust_brightness   None         0.5  \n",
       "17   study room  adjust_brightness   None         0.2  \n",
       "18   store room           turn_off   None         NaN  \n",
       "19  prayer room            turn_on   None         NaN  "
      ]
     },
     "execution_count": 24,
     "metadata": {},
     "output_type": "execute_result"
    }
   ],
   "source": [
    "explicit_df.head(20)"
   ]
  },
  {
   "cell_type": "code",
   "execution_count": 25,
   "metadata": {},
   "outputs": [],
   "source": [
    "import matplotlib.pyplot as plt"
   ]
  },
  {
   "cell_type": "code",
   "execution_count": 26,
   "metadata": {},
   "outputs": [
    {
     "data": {
      "image/png": "[encoded data removed]",
      "text/plain": [
       "<Figure size 800x500 with 1 Axes>"
      ]
     },
     "metadata": {},
     "output_type": "display_data"
    }
   ],
   "source": [
    "# Updated visualizations for the refined dataset\n",
    "\n",
    "# Distribution of intents\n",
    "refined_intent_counts = explicit_df['intent'].value_counts()\n",
    "# Plot: Intent Distribution\n",
    "plt.figure(figsize=(8, 5))\n",
    "refined_intent_counts.plot(kind='bar', title='Refined Distribution of Intents')\n",
    "plt.xlabel('Intent')\n",
    "plt.ylabel('Count')\n",
    "plt.show()"
   ]
  },
  {
   "cell_type": "code",
   "execution_count": 27,
   "metadata": {},
   "outputs": [
    {
     "data": {
      "image/png": "[encoded data removed]",
      "text/plain": [
       "<Figure size 1000x500 with 1 Axes>"
      ]
     },
     "metadata": {},
     "output_type": "display_data"
    }
   ],
   "source": [
    "# Distribution of rooms\n",
    "refined_room_counts = explicit_df['room'].value_counts()\n",
    "# Plot: Room Distribution\n",
    "plt.figure(figsize=(10, 5))\n",
    "refined_room_counts.plot(kind='bar', title='Refined Distribution of Rooms')\n",
    "plt.xlabel('Room')\n",
    "plt.ylabel('Count')\n",
    "plt.show()\n"
   ]
  },
  {
   "cell_type": "code",
   "execution_count": 28,
   "metadata": {},
   "outputs": [
    {
     "data": {
      "image/png": "[encoded data removed]",
      "text/plain": [
       "<Figure size 800x500 with 1 Axes>"
      ]
     },
     "metadata": {},
     "output_type": "display_data"
    }
   ],
   "source": [
    "# Distribution of actions\n",
    "refined_action_counts = explicit_df['action'].value_counts()\n",
    "# Plot: Action Distribution\n",
    "plt.figure(figsize=(8, 5))\n",
    "refined_action_counts.plot(kind='bar', title='Refined Distribution of Actions')\n",
    "plt.xlabel('Action')\n",
    "plt.ylabel('Count')\n",
    "plt.show()"
   ]
  },
  {
   "cell_type": "code",
   "execution_count": 29,
   "metadata": {},
   "outputs": [
    {
     "data": {
      "image/png": "[encoded data removed]",
      "text/plain": [
       "<Figure size 1000x600 with 2 Axes>"
      ]
     },
     "metadata": {},
     "output_type": "display_data"
    },
    {
     "data": {
      "text/html": [
       "<div>\n",
       "<style scoped>\n",
       "    .dataframe tbody tr th:only-of-type {\n",
       "        vertical-align: middle;\n",
       "    }\n",
       "\n",
       "    .dataframe tbody tr th {\n",
       "        vertical-align: top;\n",
       "    }\n",
       "\n",
       "    .dataframe thead th {\n",
       "        text-align: right;\n",
       "    }\n",
       "</style>\n",
       "<table border=\"1\" class=\"dataframe\">\n",
       "  <thead>\n",
       "    <tr style=\"text-align: right;\">\n",
       "      <th>action</th>\n",
       "      <th>adjust_brightness</th>\n",
       "      <th>change_color</th>\n",
       "      <th>turn_off</th>\n",
       "      <th>turn_on</th>\n",
       "    </tr>\n",
       "    <tr>\n",
       "      <th>intent</th>\n",
       "      <th></th>\n",
       "      <th></th>\n",
       "      <th></th>\n",
       "      <th></th>\n",
       "    </tr>\n",
       "  </thead>\n",
       "  <tbody>\n",
       "    <tr>\n",
       "      <th>adjust_brightness</th>\n",
       "      <td>1237</td>\n",
       "      <td>0</td>\n",
       "      <td>0</td>\n",
       "      <td>4</td>\n",
       "    </tr>\n",
       "    <tr>\n",
       "      <th>change_color</th>\n",
       "      <td>0</td>\n",
       "      <td>1575</td>\n",
       "      <td>0</td>\n",
       "      <td>0</td>\n",
       "    </tr>\n",
       "    <tr>\n",
       "      <th>multi_room_control</th>\n",
       "      <td>451</td>\n",
       "      <td>205</td>\n",
       "      <td>841</td>\n",
       "      <td>1002</td>\n",
       "    </tr>\n",
       "    <tr>\n",
       "      <th>single_room_control</th>\n",
       "      <td>260</td>\n",
       "      <td>0</td>\n",
       "      <td>893</td>\n",
       "      <td>836</td>\n",
       "    </tr>\n",
       "  </tbody>\n",
       "</table>\n",
       "</div>"
      ],
      "text/plain": [
       "action               adjust_brightness  change_color  turn_off  turn_on\n",
       "intent                                                                 \n",
       "adjust_brightness                 1237             0         0        4\n",
       "change_color                         0          1575         0        0\n",
       "multi_room_control                 451           205       841     1002\n",
       "single_room_control                260             0       893      836"
      ]
     },
     "execution_count": 29,
     "metadata": {},
     "output_type": "execute_result"
    }
   ],
   "source": [
    "# Create a crosstab to visualize the overlap between intents and actions\n",
    "intent_action_crosstab = pd.crosstab(explicit_df['intent'], explicit_df['action'])\n",
    "\n",
    "# Plot the crosstab as a heatmap for visualization\n",
    "plt.figure(figsize=(10, 6))\n",
    "plt.title('Intent-Action Overlap')\n",
    "plt.imshow(intent_action_crosstab, cmap='Blues', aspect='auto')\n",
    "plt.colorbar(label='Count')\n",
    "plt.xticks(range(len(intent_action_crosstab.columns)), intent_action_crosstab.columns, rotation=45)\n",
    "plt.yticks(range(len(intent_action_crosstab.index)), intent_action_crosstab.index)\n",
    "plt.xlabel('Action')\n",
    "plt.ylabel('Intent')\n",
    "plt.show()\n",
    "\n",
    "# Display the crosstab for detailed reference\n",
    "intent_action_crosstab"
   ]
  },
  {
   "cell_type": "markdown",
   "metadata": {},
   "source": [
    "## Observations:\n",
    "### Adjust Brightness:\n",
    "- As an intent: Appears 1,237 times, focused solely on brightness control.\n",
    "- As an action in multi-room control: Appears 451 times, applied to specific rooms.\n",
    "\n",
    "### Change Color:\n",
    "- As an intent: 1,575 occurrences, dedicated to color changes.\n",
    "- As an action in multi-room control: 205 occurrences.\n",
    "\n",
    "### Turn On/Off:\n",
    "- Primarily actions in both multi_room_control and single_room_control.\n"
   ]
  },
  {
   "cell_type": "code",
   "execution_count": 41,
   "metadata": {},
   "outputs": [
    {
     "data": {
      "text/html": [
       "<div>\n",
       "<style scoped>\n",
       "    .dataframe tbody tr th:only-of-type {\n",
       "        vertical-align: middle;\n",
       "    }\n",
       "\n",
       "    .dataframe tbody tr th {\n",
       "        vertical-align: top;\n",
       "    }\n",
       "\n",
       "    .dataframe thead th {\n",
       "        text-align: right;\n",
       "    }\n",
       "</style>\n",
       "<table border=\"1\" class=\"dataframe\">\n",
       "  <thead>\n",
       "    <tr style=\"text-align: right;\">\n",
       "      <th></th>\n",
       "      <th>command</th>\n",
       "      <th>intent</th>\n",
       "      <th>room</th>\n",
       "      <th>action</th>\n",
       "      <th>color</th>\n",
       "      <th>brightness</th>\n",
       "      <th>stratify_col</th>\n",
       "    </tr>\n",
       "  </thead>\n",
       "  <tbody>\n",
       "    <tr>\n",
       "      <th>0</th>\n",
       "      <td>Kitchen ko lights off garidinus.</td>\n",
       "      <td>single_room_control</td>\n",
       "      <td>kitchen</td>\n",
       "      <td>turn_off</td>\n",
       "      <td>None</td>\n",
       "      <td>NaN</td>\n",
       "      <td>single_room_control_turn_off</td>\n",
       "    </tr>\n",
       "    <tr>\n",
       "      <th>1</th>\n",
       "      <td>Please turn on the store room lights.</td>\n",
       "      <td>single_room_control</td>\n",
       "      <td>store room</td>\n",
       "      <td>turn_on</td>\n",
       "      <td>None</td>\n",
       "      <td>NaN</td>\n",
       "      <td>single_room_control_turn_on</td>\n",
       "    </tr>\n",
       "    <tr>\n",
       "      <th>2</th>\n",
       "      <td>Baithak kotha and bhaancha ko lights full brig...</td>\n",
       "      <td>multi_room_control</td>\n",
       "      <td>living room</td>\n",
       "      <td>adjust_brightness</td>\n",
       "      <td>None</td>\n",
       "      <td>1.0</td>\n",
       "      <td>multi_room_control_adjust_brightness</td>\n",
       "    </tr>\n",
       "    <tr>\n",
       "      <th>3</th>\n",
       "      <td>Baithak kotha and bhaancha ko lights full brig...</td>\n",
       "      <td>multi_room_control</td>\n",
       "      <td>kitchen</td>\n",
       "      <td>adjust_brightness</td>\n",
       "      <td>None</td>\n",
       "      <td>1.0</td>\n",
       "      <td>multi_room_control_adjust_brightness</td>\n",
       "    </tr>\n",
       "    <tr>\n",
       "      <th>4</th>\n",
       "      <td>Turn off the balcony lights.</td>\n",
       "      <td>single_room_control</td>\n",
       "      <td>balcony</td>\n",
       "      <td>turn_off</td>\n",
       "      <td>None</td>\n",
       "      <td>NaN</td>\n",
       "      <td>single_room_control_turn_off</td>\n",
       "    </tr>\n",
       "    <tr>\n",
       "      <th>...</th>\n",
       "      <td>...</td>\n",
       "      <td>...</td>\n",
       "      <td>...</td>\n",
       "      <td>...</td>\n",
       "      <td>...</td>\n",
       "      <td>...</td>\n",
       "      <td>...</td>\n",
       "    </tr>\n",
       "    <tr>\n",
       "      <th>7299</th>\n",
       "      <td>Could you please turn off the lights in the co...</td>\n",
       "      <td>single_room_control</td>\n",
       "      <td>corridor</td>\n",
       "      <td>turn_off</td>\n",
       "      <td>None</td>\n",
       "      <td>NaN</td>\n",
       "      <td>single_room_control_turn_off</td>\n",
       "    </tr>\n",
       "    <tr>\n",
       "      <th>7300</th>\n",
       "      <td>Switch on the balcony lights and turn off the ...</td>\n",
       "      <td>multi_room_control</td>\n",
       "      <td>balcony</td>\n",
       "      <td>turn_on</td>\n",
       "      <td>None</td>\n",
       "      <td>NaN</td>\n",
       "      <td>multi_room_control_turn_on</td>\n",
       "    </tr>\n",
       "    <tr>\n",
       "      <th>7301</th>\n",
       "      <td>Switch on the balcony lights and turn off the ...</td>\n",
       "      <td>multi_room_control</td>\n",
       "      <td>store room</td>\n",
       "      <td>turn_off</td>\n",
       "      <td>None</td>\n",
       "      <td>NaN</td>\n",
       "      <td>multi_room_control_turn_off</td>\n",
       "    </tr>\n",
       "    <tr>\n",
       "      <th>7302</th>\n",
       "      <td>Padhney kotha ko batti ko color yellow garne s...</td>\n",
       "      <td>change_color</td>\n",
       "      <td>study room</td>\n",
       "      <td>change_color</td>\n",
       "      <td>yellow</td>\n",
       "      <td>NaN</td>\n",
       "      <td>change_color_change_color</td>\n",
       "    </tr>\n",
       "    <tr>\n",
       "      <th>7303</th>\n",
       "      <td>Can you change the store room light to blue?</td>\n",
       "      <td>change_color</td>\n",
       "      <td>store room</td>\n",
       "      <td>change_color</td>\n",
       "      <td>blue</td>\n",
       "      <td>NaN</td>\n",
       "      <td>change_color_change_color</td>\n",
       "    </tr>\n",
       "  </tbody>\n",
       "</table>\n",
       "<p>7304 rows × 7 columns</p>\n",
       "</div>"
      ],
      "text/plain": [
       "                                                command               intent  \\\n",
       "0                      Kitchen ko lights off garidinus.  single_room_control   \n",
       "1                 Please turn on the store room lights.  single_room_control   \n",
       "2     Baithak kotha and bhaancha ko lights full brig...   multi_room_control   \n",
       "3     Baithak kotha and bhaancha ko lights full brig...   multi_room_control   \n",
       "4                          Turn off the balcony lights.  single_room_control   \n",
       "...                                                 ...                  ...   \n",
       "7299  Could you please turn off the lights in the co...  single_room_control   \n",
       "7300  Switch on the balcony lights and turn off the ...   multi_room_control   \n",
       "7301  Switch on the balcony lights and turn off the ...   multi_room_control   \n",
       "7302  Padhney kotha ko batti ko color yellow garne s...         change_color   \n",
       "7303       Can you change the store room light to blue?         change_color   \n",
       "\n",
       "             room             action   color  brightness  \\\n",
       "0         kitchen           turn_off    None         NaN   \n",
       "1      store room            turn_on    None         NaN   \n",
       "2     living room  adjust_brightness    None         1.0   \n",
       "3         kitchen  adjust_brightness    None         1.0   \n",
       "4         balcony           turn_off    None         NaN   \n",
       "...           ...                ...     ...         ...   \n",
       "7299     corridor           turn_off    None         NaN   \n",
       "7300      balcony            turn_on    None         NaN   \n",
       "7301   store room           turn_off    None         NaN   \n",
       "7302   study room       change_color  yellow         NaN   \n",
       "7303   store room       change_color    blue         NaN   \n",
       "\n",
       "                              stratify_col  \n",
       "0             single_room_control_turn_off  \n",
       "1              single_room_control_turn_on  \n",
       "2     multi_room_control_adjust_brightness  \n",
       "3     multi_room_control_adjust_brightness  \n",
       "4             single_room_control_turn_off  \n",
       "...                                    ...  \n",
       "7299          single_room_control_turn_off  \n",
       "7300            multi_room_control_turn_on  \n",
       "7301           multi_room_control_turn_off  \n",
       "7302             change_color_change_color  \n",
       "7303             change_color_change_color  \n",
       "\n",
       "[7304 rows x 7 columns]"
      ]
     },
     "execution_count": 41,
     "metadata": {},
     "output_type": "execute_result"
    }
   ],
   "source": [
    "explicit_df"
   ]
  },
  {
   "cell_type": "code",
   "execution_count": 79,
   "metadata": {},
   "outputs": [
    {
     "data": {
      "text/plain": [
       "7304"
      ]
     },
     "execution_count": 79,
     "metadata": {},
     "output_type": "execute_result"
    }
   ],
   "source": [
    "len(explicit_df)"
   ]
  },
  {
   "cell_type": "code",
   "execution_count": 90,
   "metadata": {},
   "outputs": [],
   "source": [
    "#creating a dummy df for \n",
    "ddf = explicit_df.copy()\n",
    "ddf = ddf[0:0]"
   ]
  },
  {
   "cell_type": "code",
   "execution_count": 92,
   "metadata": {},
   "outputs": [
    {
     "data": {
      "text/html": [
       "<div>\n",
       "<style scoped>\n",
       "    .dataframe tbody tr th:only-of-type {\n",
       "        vertical-align: middle;\n",
       "    }\n",
       "\n",
       "    .dataframe tbody tr th {\n",
       "        vertical-align: top;\n",
       "    }\n",
       "\n",
       "    .dataframe thead th {\n",
       "        text-align: right;\n",
       "    }\n",
       "</style>\n",
       "<table border=\"1\" class=\"dataframe\">\n",
       "  <thead>\n",
       "    <tr style=\"text-align: right;\">\n",
       "      <th></th>\n",
       "      <th>command</th>\n",
       "      <th>intent</th>\n",
       "      <th>room</th>\n",
       "      <th>action</th>\n",
       "      <th>color</th>\n",
       "      <th>brightness</th>\n",
       "      <th>stratify_col</th>\n",
       "    </tr>\n",
       "  </thead>\n",
       "  <tbody>\n",
       "  </tbody>\n",
       "</table>\n",
       "</div>"
      ],
      "text/plain": [
       "Empty DataFrame\n",
       "Columns: [command, intent, room, action, color, brightness, stratify_col]\n",
       "Index: []"
      ]
     },
     "execution_count": 92,
     "metadata": {},
     "output_type": "execute_result"
    }
   ],
   "source": [
    "ddf"
   ]
  },
  {
   "cell_type": "code",
   "execution_count": 107,
   "metadata": {},
   "outputs": [],
   "source": [
    "for i in range(0, len(explicit_df)):\n",
    "    if i+1 == len(explicit_df):\n",
    "        ddf.loc[i, :] = explicit_df.loc[i, :]\n",
    "        break\n",
    "    if (explicit_df['command'][i] == explicit_df['command'][i+1]):\n",
    "        pass\n",
    "    else:\n",
    "        ddf.loc[i, :] = explicit_df.loc[i, :]"
   ]
  },
  {
   "cell_type": "code",
   "execution_count": 108,
   "metadata": {},
   "outputs": [
    {
     "data": {
      "text/plain": [
       "6044"
      ]
     },
     "execution_count": 108,
     "metadata": {},
     "output_type": "execute_result"
    }
   ],
   "source": [
    "len(ddf)"
   ]
  },
  {
   "cell_type": "code",
   "execution_count": 111,
   "metadata": {},
   "outputs": [
    {
     "data": {
      "text/plain": [
       "command         Can you change the store room light to blue?\n",
       "intent                                          change_color\n",
       "room                                              store room\n",
       "action                                          change_color\n",
       "color                                                   blue\n",
       "brightness                                               NaN\n",
       "stratify_col                       change_color_change_color\n",
       "Name: 7303, dtype: object"
      ]
     },
     "execution_count": 111,
     "metadata": {},
     "output_type": "execute_result"
    }
   ],
   "source": [
    "ddf.iloc[-1]"
   ]
  },
  {
   "cell_type": "code",
   "execution_count": null,
   "metadata": {},
   "outputs": [],
   "source": []
  }
 ],
 "metadata": {
  "kernelspec": {
   "display_name": "homeAuto",
   "language": "python",
   "name": "python3"
  },
  "language_info": {
   "codemirror_mode": {
    "name": "ipython",
    "version": 3
   },
   "file_extension": ".py",
   "mimetype": "text/x-python",
   "name": "python",
   "nbconvert_exporter": "python",
   "pygments_lexer": "ipython3",
   "version": "3.12.2"
  }
 },
 "nbformat": 4,
 "nbformat_minor": 2
}
