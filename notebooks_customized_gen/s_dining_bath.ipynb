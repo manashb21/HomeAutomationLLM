{
 "cells": [
  {
   "cell_type": "markdown",
   "metadata": {},
   "source": [
    "Needed, 350 dining, 350 bath.\n",
    "\n",
    "Total 700 rows. 50-50 split. "
   ]
  },
  {
   "cell_type": "code",
   "execution_count": 1,
   "metadata": {},
   "outputs": [],
   "source": [
    "import os\n",
    "import json\n",
    "from dotenv import load_dotenv\n",
    "from openai import OpenAI\n",
    "from typing import List, Dict\n",
    "import random\n",
    "import shutil\n",
    "\n",
    "import sys\n",
    "sys.path.append('../scripts')  \n",
    "\n",
    "from jsontocsv import update_csv_from_json"
   ]
  },
  {
   "cell_type": "code",
   "execution_count": 2,
   "metadata": {},
   "outputs": [],
   "source": [
    "load_dotenv()\n",
    "# Configure OpenAI API key\n",
    "openai = OpenAI()\n",
    "api_key = os.getenv(\"OPENAI_API_KEY\")"
   ]
  },
  {
   "cell_type": "code",
   "execution_count": 3,
   "metadata": {},
   "outputs": [],
   "source": [
    "system = '''You are an assistant trained to generate Nepali-English code-mixed smart home control commands for fine-tuning a language model. \n",
    "Your task is to follow the updated guidelines and create commands as provided in the examples.'''"
   ]
  },
  {
   "cell_type": "code",
   "execution_count": 15,
   "metadata": {},
   "outputs": [],
   "source": [
    "user = '''1. Guideline for Commands:\n",
    "   - Commands should be **Nepali-English code-mixed**, with some in **full English** and **Nepali-dominant**, but written in **Romanized Nepali** (transliterated Nepali to English):\n",
    "     - **50% Code-Mixed:** e.g., \"dining room ko batti balnu\" or \"khana khane thau ko lights dim gara\".\n",
    "     - **30% Fully English:** e.g., \"Turn on the bathroom lights.\"\n",
    "     - **20% Nepali-Dominant (Transliterated):** e.g., \"bathroom ko batti balera rakhnus.\"\n",
    "   - **Do not** generate commands in fully native Nepali script (e.g., \"बाथरूम\" or \"डाइनिङ्ग रूम \"). Use Romanized Nepali instead.\n",
    "   - Incorporate natural variations in grammar, phrasing, and spelling.\n",
    "   - Commands may include requests or polite phrasing. For instance:\n",
    "     - Bathroom ko batti off garna milcha?\n",
    "     - Can you brighten the dining area lights?\n",
    "     - Could you dim the toilet lights, please?\n",
    "\n",
    "2. Room Names:\n",
    "   - Generate commands for the following rooms:\n",
    "     - **Bathroom**: `bathroom`, `snaan kotha`, `toilet`, `nuhaune thau`.\n",
    "     - **Dining Area**: `dining`, `dining area`, `khaana khane thau`.\n",
    "\n",
    "3. Intent:\n",
    "   - Generate commands exclusively for **single_room_control** intent.\n",
    "   - Each command should involve only one room.\n",
    "   - Example: \"Dim the bathroom lights to 50%.\"\n",
    "\n",
    "4. JSON Output Requirements:\n",
    "   - Translate Nepali transliterations to English room names in the `actions` section.\n",
    "   - Follow this consistent JSON structure:\n",
    "     {\n",
    "      \"command\": \"<natural language command>\",\n",
    "      \"intent\": \"single_room_control\",\n",
    "      \"rooms\": [\n",
    "          \"<room_name>\"\n",
    "      ],\n",
    "      \"actions\": [\n",
    "          {\n",
    "              \"room\": \"<room_name>\",\n",
    "              \"action\": \"<turn_on | turn_off | adjust_brightness | change_color>\",\n",
    "              \"brightness\": \"<optional: 0 to 1>\",\n",
    "              \"color\": \"<optional: red | blue | green | etc.>\"\n",
    "          }\n",
    "      ]\n",
    "    }\n",
    "\n",
    "5. Examples:\n",
    "   - **Code-Mixed:** \n",
    "     ```json\n",
    "     {\n",
    "       \"command\": \"Bathroom ko batti dim gara.\",\n",
    "       \"intent\": \"single_room_control\",\n",
    "       \"rooms\": [\"bathroom\"],\n",
    "       \"actions\": [\n",
    "           {\n",
    "               \"room\": \"bathroom\",\n",
    "               \"action\": \"adjust_brightness\",\n",
    "               \"brightness\": 0.3\n",
    "           }\n",
    "       ]\n",
    "     }\n",
    "     ```\n",
    "   - **Fully English:**\n",
    "     ```json\n",
    "     {\n",
    "       \"command\": \"Brighten the dining room lights to full.\",\n",
    "       \"intent\": \"single_room_control\",\n",
    "       \"rooms\": [\"dining area\"],\n",
    "       \"actions\": [\n",
    "           {\n",
    "               \"room\": \"dining area\",\n",
    "               \"action\": \"adjust_brightness\",\n",
    "               \"brightness\": 1.0\n",
    "           }\n",
    "       ]\n",
    "     }\n",
    "     ```\n",
    "\n",
    "6. Generate Variations:\n",
    "   - Generate 50 commands as an array of JSON objects following these guidelines, ensuring diversity and natural phrasing.\n",
    "   - Both bathroom and dining area must appear exactly 25 times each in the generated commands.\n",
    "   - Ensure that the commands are evenly distributed between the room categories (e.g., 25 commands for the bathroom and 25 for the dining area), while adhering to the ratio of Code-Mixed (50%), Fully English (30%), and Nepali-Dominant (20%).\n",
    "   - Example distribution:\n",
    "     - Bathroom commands: 13 Code-Mixed, 8 Fully English, 4 Nepali-Dominant.\n",
    "     - Dining Area commands: 13 Code-Mixed, 8 Fully English, 4 Nepali-Dominant.'''\n"
   ]
  },
  {
   "cell_type": "code",
   "execution_count": 16,
   "metadata": {},
   "outputs": [],
   "source": [
    "def builder(system, user):\n",
    "    return [{\"role\":\"system\", \"content\":system},\n",
    "            {\"role\":\"user\", \"content\":user}\n",
    "           ]       "
   ]
  },
  {
   "cell_type": "code",
   "execution_count": 17,
   "metadata": {},
   "outputs": [],
   "source": [
    "# combining all the steps\n",
    "def generate_dataset(system, user):\n",
    "    try:\n",
    "        response = openai.chat.completions.create(model = \"gpt-4o\",\n",
    "                                                  messages = builder(system, user),\n",
    "                                                  temperature = 0.8, \n",
    "                                                  # max_tokens = 2000,\n",
    "                                                #   response_format={\"type\": \"json_object\"}\n",
    "                                                  )\n",
    "        # dataset = json.loads(response.choices[0].message.content)\n",
    "        dataset = (response.choices[0].message.content)\n",
    "        return dataset\n",
    "    except Exception as e:\n",
    "        print(f\"Error generating dataset: {str(e)}\")\n",
    "        return []"
   ]
  },
  {
   "cell_type": "code",
   "execution_count": 18,
   "metadata": {},
   "outputs": [],
   "source": [
    "# function to save the dataset as json      \n",
    "def save_dataset(dataset: List[Dict], filename: str):\n",
    "    \"\"\"Save the generated dataset to a JSON file\"\"\"\n",
    "    with open(filename, 'w', encoding='utf-8') as f:\n",
    "        json.dump(dataset, f, ensure_ascii=False, indent=4)"
   ]
  },
  {
   "cell_type": "code",
   "execution_count": 19,
   "metadata": {},
   "outputs": [],
   "source": [
    "def tojsonDump():\n",
    "    root_path = \"../data/jsonRawAdditionalSingle\"\n",
    "    try:\n",
    "        # Ensure the directory exists\n",
    "        os.makedirs(root_path, exist_ok=True)\n",
    "        \n",
    "        if len(os.listdir(root_path)) == 0:\n",
    "            shutil.copy(\"light_automation_dataset.json\", \"light_automation_dataset_1.json\")\n",
    "            shutil.move(\"light_automation_dataset_1.json\", root_path)\n",
    "        else:\n",
    "            num = len(os.listdir(root_path)) + 1\n",
    "            fname = \"light_automation_dataset_\" + f\"{num}\" + \".json\"\n",
    "            shutil.copy(\"light_automation_dataset.json\", fname)\n",
    "            shutil.move(fname, root_path)\n",
    "        print(\"Moved successfully to jsonDump. File: \", fname)\n",
    "    except Exception as e:\n",
    "        print(f\"Error moving to {root_path}\", str(e))"
   ]
  },
  {
   "cell_type": "code",
   "execution_count": 20,
   "metadata": {},
   "outputs": [
    {
     "name": "stdout",
     "output_type": "stream",
     "text": [
      "Successfully generated and saved 46 samples to light_automation_dataset.json\n",
      "Moved successfully to jsonDump. File:  light_automation_dataset_109.json\n"
     ]
    }
   ],
   "source": [
    "# if __name__ == \"__main__\":\n",
    "#     dataset = generate_dataset(system, user)\n",
    "    \n",
    "#     if dataset:\n",
    "#         #Save the dataset\n",
    "#         dataset1 = dataset[7:]\n",
    "#         dataset1 = dataset1[:-3]\n",
    "#         dataset1 = json.loads(dataset1)\n",
    "#         save_dataset(dataset1, \"light_automation_dataset.json\")\n",
    "#         print(f\"Successfully generated and saved {len(dataset1)} samples to light_automation_dataset.json\")\n",
    "#         tojsonDump()\n",
    "#         # update_csv_from_json(\"light_automation_dataset.json\", \"annotator_data.csv\")\n",
    "#     else:\n",
    "#         print(\"Failed to generate dataset\")"
   ]
  },
  {
   "cell_type": "code",
   "execution_count": 21,
   "metadata": {},
   "outputs": [
    {
     "name": "stdout",
     "output_type": "stream",
     "text": [
      "Itr:  1\n",
      "Successfully generated and saved 45 samples to light_automation_dataset.json\n",
      "Moved successfully to jsonDump. File:  light_automation_dataset_110.json\n",
      "Itr:  2\n",
      "Successfully generated and saved 41 samples to light_automation_dataset.json\n",
      "Moved successfully to jsonDump. File:  light_automation_dataset_111.json\n",
      "Itr:  3\n",
      "Successfully generated and saved 47 samples to light_automation_dataset.json\n",
      "Moved successfully to jsonDump. File:  light_automation_dataset_112.json\n",
      "Itr:  4\n",
      "Successfully generated and saved 45 samples to light_automation_dataset.json\n",
      "Moved successfully to jsonDump. File:  light_automation_dataset_113.json\n",
      "Itr:  5\n",
      "Successfully generated and saved 46 samples to light_automation_dataset.json\n",
      "Moved successfully to jsonDump. File:  light_automation_dataset_114.json\n",
      "Itr:  6\n",
      "Successfully generated and saved 48 samples to light_automation_dataset.json\n",
      "Moved successfully to jsonDump. File:  light_automation_dataset_115.json\n",
      "Itr:  7\n",
      "Successfully generated and saved 45 samples to light_automation_dataset.json\n",
      "Moved successfully to jsonDump. File:  light_automation_dataset_116.json\n",
      "Itr:  8\n",
      "Successfully generated and saved 48 samples to light_automation_dataset.json\n",
      "Moved successfully to jsonDump. File:  light_automation_dataset_117.json\n",
      "Itr:  9\n",
      "Successfully generated and saved 48 samples to light_automation_dataset.json\n",
      "Moved successfully to jsonDump. File:  light_automation_dataset_118.json\n",
      "Itr:  10\n",
      "Successfully generated and saved 48 samples to light_automation_dataset.json\n",
      "Moved successfully to jsonDump. File:  light_automation_dataset_119.json\n",
      "Itr:  11\n",
      "Successfully generated and saved 45 samples to light_automation_dataset.json\n",
      "Moved successfully to jsonDump. File:  light_automation_dataset_120.json\n",
      "Itr:  12\n",
      "Successfully generated and saved 45 samples to light_automation_dataset.json\n",
      "Moved successfully to jsonDump. File:  light_automation_dataset_121.json\n",
      "Itr:  13\n",
      "Successfully generated and saved 46 samples to light_automation_dataset.json\n",
      "Moved successfully to jsonDump. File:  light_automation_dataset_122.json\n"
     ]
    }
   ],
   "source": [
    "for i in range(13):\n",
    "    print(\"Itr: \", i+1)\n",
    "    dataset = generate_dataset(system, user)\n",
    "    \n",
    "    if dataset:\n",
    "        #Save the dataset\n",
    "        dataset1 = dataset[7:]\n",
    "        dataset1 = dataset1[:-3]\n",
    "        dataset1 = json.loads(dataset1)\n",
    "        save_dataset(dataset1, \"light_automation_dataset.json\")\n",
    "        print(f\"Successfully generated and saved {len(dataset1)} samples to light_automation_dataset.json\")\n",
    "        tojsonDump()\n",
    "        # update_csv_from_json(\"light_automation_dataset.json\", \"annotator_data.csv\")\n",
    "    else:\n",
    "        print(\"Failed to generate dataset\")"
   ]
  },
  {
   "cell_type": "code",
   "execution_count": null,
   "metadata": {},
   "outputs": [],
   "source": []
  }
 ],
 "metadata": {
  "kernelspec": {
   "display_name": "homeAuto",
   "language": "python",
   "name": "python3"
  },
  "language_info": {
   "codemirror_mode": {
    "name": "ipython",
    "version": 3
   },
   "file_extension": ".py",
   "mimetype": "text/x-python",
   "name": "python",
   "nbconvert_exporter": "python",
   "pygments_lexer": "ipython3",
   "version": "3.12.2"
  }
 },
 "nbformat": 4,
 "nbformat_minor": 2
}
