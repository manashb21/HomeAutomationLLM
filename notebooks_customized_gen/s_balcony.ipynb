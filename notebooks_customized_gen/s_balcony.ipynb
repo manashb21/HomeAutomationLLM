{
 "cells": [
  {
   "cell_type": "code",
   "execution_count": 1,
   "metadata": {},
   "outputs": [],
   "source": [
    "import os\n",
    "import json\n",
    "from dotenv import load_dotenv\n",
    "from openai import OpenAI\n",
    "from typing import List, Dict\n",
    "import random\n",
    "import shutil\n",
    "\n",
    "import sys\n",
    "sys.path.append('../scripts')  \n",
    "\n",
    "from jsontocsv import update_csv_from_json"
   ]
  },
  {
   "cell_type": "code",
   "execution_count": 2,
   "metadata": {},
   "outputs": [],
   "source": [
    "load_dotenv()\n",
    "# Configure OpenAI API key\n",
    "openai = OpenAI()\n",
    "api_key = os.getenv(\"OPENAI_API_KEY\")"
   ]
  },
  {
   "cell_type": "code",
   "execution_count": 3,
   "metadata": {},
   "outputs": [],
   "source": [
    "system = '''You are an assistant trained to generate Nepali-English code-mixed smart home control commands for fine-tuning a language model. \n",
    "Your task is to follow the updated guidelines and create commands as provided in the examples.'''"
   ]
  },
  {
   "cell_type": "code",
   "execution_count": 4,
   "metadata": {},
   "outputs": [],
   "source": [
    "user = '''1. Guideline for Commands:\n",
    "   - Commands should be **Nepali-English code-mixed**, with some in **full English** and **Nepali-dominant**, but written in **Romanized Nepali** (transliterated Nepali to English):\n",
    "     - **50% Code-Mixed:** e.g., \"Balcony ko batti balnu\" or \"baranda ko lights dim gara\".\n",
    "     - **30% Fully English:** e.g., \"Turn on the balcony lights.\"\n",
    "     - **20% Nepali-Dominant (Transliterated):** e.g., \"Baranda ko batti balera rakhnus.\"\n",
    "   - **Do not** generate commands in fully native Nepali script (e.g., \"बालकोनी\"). Use Romanized Nepali instead.\n",
    "   - Incorporate natural variations in grammar, phrasing, and spelling.\n",
    "   - Commands may include requests or polite phrasing. For instance:\n",
    "     - Bardali ko batti off garna milcha?\n",
    "     - Can you brighten the balcony lights?\n",
    "     - Could you dim the baranda lights, please?\n",
    "\n",
    "2. Room Names:\n",
    "   - Generate commands for the following room:\n",
    "     - **Balcony**: `bardali`, `baranda`.\n",
    "\n",
    "3. Intent:\n",
    "   - Generate commands exclusively for **single_room_control** intent.\n",
    "   - Each command should involve only one room.\n",
    "   - Example: \"Dim the balcony lights to 50%.\"\n",
    "\n",
    "4. JSON Output Requirements:\n",
    "   - Translate Nepali transliterations to English room names in the `actions` section.\n",
    "   - Follow this consistent JSON structure:\n",
    "     {\n",
    "      \"command\": \"<natural language command>\",\n",
    "      \"intent\": \"single_room_control\",\n",
    "      \"rooms\": [\n",
    "          \"<room_name>\"\n",
    "      ],\n",
    "      \"actions\": [\n",
    "          {\n",
    "              \"room\": \"<room_name>\",\n",
    "              \"action\": \"<turn_on | turn_off | adjust_brightness | change_color>\",\n",
    "              \"brightness\": \"<optional: 0 to 1>\",\n",
    "              \"color\": \"<optional: red | blue | green | etc.>\"\n",
    "          }\n",
    "      ]\n",
    "    }\n",
    "\n",
    "5. Examples:\n",
    "   - **Code-Mixed:** \n",
    "     ```json\n",
    "     {\n",
    "       \"command\": \"Baranda ko batti dim gara.\",\n",
    "       \"intent\": \"single_room_control\",\n",
    "       \"rooms\": [\"balcony\"],\n",
    "       \"actions\": [\n",
    "           {\n",
    "               \"room\": \"balcony\",\n",
    "               \"action\": \"adjust_brightness\",\n",
    "               \"brightness\": 0.3\n",
    "           }\n",
    "       ]\n",
    "     }\n",
    "     ```\n",
    "   - **Fully English:**\n",
    "     ```json\n",
    "     {\n",
    "       \"command\": \"Brighten the balcony lights to full.\",\n",
    "       \"intent\": \"single_room_control\",\n",
    "       \"rooms\": [\"balcony\"],\n",
    "       \"actions\": [\n",
    "           {\n",
    "               \"room\": \"balcony\",\n",
    "               \"action\": \"adjust_brightness\",\n",
    "               \"brightness\": 1.0\n",
    "           }\n",
    "       ]\n",
    "     }\n",
    "     ```\n",
    "\n",
    "6. Generate Variations:\n",
    "   - Generate 55 commands as an array of JSON objects following these guidelines, ensuring diversity and natural phrasing.'''\n"
   ]
  },
  {
   "cell_type": "code",
   "execution_count": 5,
   "metadata": {},
   "outputs": [],
   "source": [
    "def builder(system, user):\n",
    "    return [{\"role\":\"system\", \"content\":system},\n",
    "            {\"role\":\"user\", \"content\":user}\n",
    "           ]       "
   ]
  },
  {
   "cell_type": "code",
   "execution_count": 6,
   "metadata": {},
   "outputs": [],
   "source": [
    "# combining all the steps\n",
    "def generate_dataset(system, user):\n",
    "    try:\n",
    "        response = openai.chat.completions.create(model = \"gpt-4o\",\n",
    "                                                  messages = builder(system, user),\n",
    "                                                  temperature = 0.8, \n",
    "                                                  # max_tokens = 2000,\n",
    "                                                #   response_format={\"type\": \"json_object\"}\n",
    "                                                  )\n",
    "        # dataset = json.loads(response.choices[0].message.content)\n",
    "        dataset = (response.choices[0].message.content)\n",
    "        return dataset\n",
    "    except Exception as e:\n",
    "        print(f\"Error generating dataset: {str(e)}\")\n",
    "        return []"
   ]
  },
  {
   "cell_type": "code",
   "execution_count": 7,
   "metadata": {},
   "outputs": [],
   "source": [
    "# function to save the dataset as json      \n",
    "def save_dataset(dataset: List[Dict], filename: str):\n",
    "    \"\"\"Save the generated dataset to a JSON file\"\"\"\n",
    "    with open(filename, 'w', encoding='utf-8') as f:\n",
    "        json.dump(dataset, f, ensure_ascii=False, indent=4)"
   ]
  },
  {
   "cell_type": "code",
   "execution_count": 8,
   "metadata": {},
   "outputs": [],
   "source": [
    "def tojsonDump():\n",
    "    root_path = \"../data/jsonRawAdditionalSingle\"\n",
    "    try:\n",
    "        # Ensure the directory exists\n",
    "        os.makedirs(root_path, exist_ok=True)\n",
    "        \n",
    "        if len(os.listdir(root_path)) == 0:\n",
    "            shutil.copy(\"light_automation_dataset.json\", \"light_automation_dataset_1.json\")\n",
    "            shutil.move(\"light_automation_dataset_1.json\", root_path)\n",
    "        else:\n",
    "            num = len(os.listdir(root_path)) + 1\n",
    "            fname = \"light_automation_dataset_\" + f\"{num}\" + \".json\"\n",
    "            shutil.copy(\"light_automation_dataset.json\", fname)\n",
    "            shutil.move(fname, root_path)\n",
    "        print(\"Moved successfully to jsonDump. File: \", fname)\n",
    "    except Exception as e:\n",
    "        print(f\"Error moving to {root_path}\", str(e))"
   ]
  },
  {
   "cell_type": "code",
   "execution_count": 9,
   "metadata": {},
   "outputs": [],
   "source": [
    "# if __name__ == \"__main__\":\n",
    "#     dataset = generate_dataset(system, user)\n",
    "    \n",
    "#     if dataset:\n",
    "#         #Save the dataset\n",
    "#         dataset1 = dataset[7:]\n",
    "#         dataset1 = dataset1[:-3]\n",
    "#         dataset1 = json.loads(dataset1)\n",
    "#         save_dataset(dataset1, \"light_automation_dataset.json\")\n",
    "#         print(f\"Successfully generated and saved {len(dataset1)} samples to light_automation_dataset.json\")\n",
    "#         tojsonDump()\n",
    "#         # update_csv_from_json(\"light_automation_dataset.json\", \"annotator_data.csv\")\n",
    "#     else:\n",
    "#         print(\"Failed to generate dataset\")"
   ]
  },
  {
   "cell_type": "code",
   "execution_count": 10,
   "metadata": {},
   "outputs": [
    {
     "name": "stdout",
     "output_type": "stream",
     "text": [
      "Itr:  1\n",
      "Successfully generated and saved 51 samples to light_automation_dataset.json\n",
      "Moved successfully to jsonDump. File:  light_automation_dataset_129.json\n",
      "Itr:  2\n",
      "Successfully generated and saved 46 samples to light_automation_dataset.json\n",
      "Moved successfully to jsonDump. File:  light_automation_dataset_130.json\n",
      "Itr:  3\n",
      "Successfully generated and saved 52 samples to light_automation_dataset.json\n",
      "Moved successfully to jsonDump. File:  light_automation_dataset_131.json\n",
      "Itr:  4\n",
      "Successfully generated and saved 53 samples to light_automation_dataset.json\n",
      "Moved successfully to jsonDump. File:  light_automation_dataset_132.json\n",
      "Itr:  5\n",
      "Successfully generated and saved 52 samples to light_automation_dataset.json\n",
      "Moved successfully to jsonDump. File:  light_automation_dataset_133.json\n",
      "Itr:  6\n",
      "Successfully generated and saved 53 samples to light_automation_dataset.json\n",
      "Moved successfully to jsonDump. File:  light_automation_dataset_134.json\n"
     ]
    }
   ],
   "source": [
    "for i in range(6):\n",
    "    print(\"Itr: \", i+1)\n",
    "    dataset = generate_dataset(system, user)\n",
    "    \n",
    "    if dataset:\n",
    "        #Save the dataset\n",
    "        dataset1 = dataset[7:]\n",
    "        dataset1 = dataset1[:-3]\n",
    "        dataset1 = json.loads(dataset1)\n",
    "        save_dataset(dataset1, \"light_automation_dataset.json\")\n",
    "        print(f\"Successfully generated and saved {len(dataset1)} samples to light_automation_dataset.json\")\n",
    "        tojsonDump()\n",
    "        # update_csv_from_json(\"light_automation_dataset.json\", \"annotator_data.csv\")\n",
    "    else:\n",
    "        print(\"Failed to generate dataset\")"
   ]
  },
  {
   "cell_type": "code",
   "execution_count": null,
   "metadata": {},
   "outputs": [],
   "source": []
  }
 ],
 "metadata": {
  "kernelspec": {
   "display_name": "homeAuto",
   "language": "python",
   "name": "python3"
  },
  "language_info": {
   "codemirror_mode": {
    "name": "ipython",
    "version": 3
   },
   "file_extension": ".py",
   "mimetype": "text/x-python",
   "name": "python",
   "nbconvert_exporter": "python",
   "pygments_lexer": "ipython3",
   "version": "3.12.2"
  }
 },
 "nbformat": 4,
 "nbformat_minor": 2
}
